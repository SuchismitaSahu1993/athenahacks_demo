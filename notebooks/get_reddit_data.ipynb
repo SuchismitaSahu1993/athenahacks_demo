{
 "cells": [
  {
   "cell_type": "markdown",
   "metadata": {},
   "source": [
    "# Creating Our Own Reddit Datasets"
   ]
  },
  {
   "cell_type": "code",
   "execution_count": 23,
   "metadata": {},
   "outputs": [],
   "source": [
    "# import what we need\n",
    "import praw\n",
    "\n",
    "import pandas as pd"
   ]
  },
  {
   "cell_type": "markdown",
   "metadata": {},
   "source": [
    "## Getting Reddit Data\n",
    "\n",
    "In order to get data from the reddit API, you'll need to authenticate with the following:\n",
    "\n",
    "- `client_id`\n",
    "- `client_secret`\n",
    "- `user_agent`\n",
    "\n",
    "To get this info, go here  https://www.reddit.com/prefs/apps  and click **create (another) app**.\n",
    "(You'll need to have a reddit account to do this).\n",
    "\n",
    "Once you've done this, the informatino is stored as follows:\n",
    "\n",
    "![reddit_app](../img/reddit_app_image.png)\n",
    "\n",
    "For the sake of demo, you can store the info in the variables below, but be careful not to push the code where others can see it! (worst-case scenario is someone users your reddit account, idk if that matters but yeah)"
   ]
  },
  {
   "cell_type": "code",
   "execution_count": 3,
   "metadata": {},
   "outputs": [],
   "source": [
    "client_id = \"\"\n",
    "client_secret = \"\"\n",
    "user_agent = \"\""
   ]
  },
  {
   "cell_type": "code",
   "execution_count": 12,
   "metadata": {},
   "outputs": [],
   "source": [
    "class ScrapeReddit():\n",
    "    \"\"\"\n",
    "    Scrape reddit threads & comments via praw.\n",
    "    \"\"\"\n",
    "    \n",
    "    def __init__(self, client_id, client_secret, user_agent):\n",
    "        # probably bad to store api creds as attributes? it's a demo whatever\n",
    "        self.client_id = client_id\n",
    "        self.client_secret = client_secret\n",
    "        self.user_agent = user_agent\n",
    "        self.reddit = self.connect_to_api()\n",
    "        \n",
    "    def connect_to_api(self):\n",
    "        \"\"\"\n",
    "        Connect to reddit API.\n",
    "        \"\"\"\n",
    "        reddit = praw.Reddit(client_id=self.client_id, \n",
    "                             client_secret=self.client_secret, \n",
    "                             user_agent=self.user_agent)\n",
    "        return reddit\n",
    "    \n",
    "    def get_thread_df(self, subreddit, n):\n",
    "        \"\"\"\n",
    "        Create dataframe of top n posts for a given subreddit.\n",
    "        \"\"\"\n",
    "        posts = []\n",
    "        subred = self.reddit.subreddit(subreddit)\n",
    "        for post in subred.top(limit=n):\n",
    "            posts.append([post.title, post.id, post.subreddit, post.selftext])\n",
    "        thread_df = pd.DataFrame(posts, columns=['title', 'id', 'subreddit', 'body'])\n",
    "        return thread_df\n",
    "    \n",
    "    def get_comment_submissions(self, subreddit_df):\n",
    "        \"\"\"\n",
    "        Get top comments for a given subreddit.\n",
    "        \"\"\"\n",
    "        subreddit_comments = []\n",
    "        for thread_id in subreddit_df['id']:\n",
    "            submission = self.reddit.submission(id=thread_id)\n",
    "            # Allow recursive comment collection\n",
    "            submission.comments.replace_more(limit=0)\n",
    "            # collect tuples of (thread, comment)\n",
    "            submission_comments = [(thread_id, sub.body) for sub in submission.comments.list()]\n",
    "            subreddit_comments.append(submission_comments)\n",
    "        # unnest all comments\n",
    "        unnested_comments = [coms for thread in subreddit_comments for coms in thread]\n",
    "        # coerce to pandas dataframe\n",
    "        comment_df = pd.DataFrame(unnested_comments, columns=['id', 'comment'])\n",
    "        return comment_df\n",
    "    \n",
    "    def make_subreddit_df(self, subreddit, n, csv=None):\n",
    "        \"\"\"\n",
    "        Create subreddit dataframe.\n",
    "        \"\"\"\n",
    "        thread_df = self.get_thread_df(subreddit, n)\n",
    "        comment_df = self.get_comment_submissions(thread_df)\n",
    "        subreddit_df = pd.merge(thread_df, comment_df, on='id', how='inner')\n",
    "        if csv:\n",
    "            subreddit_df.to_csv(csv)\n",
    "        return subreddit_df\n",
    "            "
   ]
  },
  {
   "cell_type": "markdown",
   "metadata": {},
   "source": [
    "Now, just use the class I wrote above to scrape whatever subreddit you want.\n",
    "(You may or may not hit rate-limits. It's usually decently quick)."
   ]
  },
  {
   "cell_type": "code",
   "execution_count": 14,
   "metadata": {},
   "outputs": [],
   "source": [
    "# authenticate API\n",
    "api = ScrapeReddit(client_id, client_secret, user_agent)"
   ]
  },
  {
   "cell_type": "markdown",
   "metadata": {},
   "source": [
    "### Grab data for a few different subreddits"
   ]
  },
  {
   "cell_type": "code",
   "execution_count": 20,
   "metadata": {},
   "outputs": [],
   "source": [
    "# r/statistics\n",
    "statistics_df = api.make_subreddit_df('statistics', 100, csv=\"../data/statistics.csv\")"
   ]
  },
  {
   "cell_type": "code",
   "execution_count": 21,
   "metadata": {},
   "outputs": [],
   "source": [
    "# r/usc\n",
    "usc_df = api.make_subreddit_df('usc', 100, csv=\"../data/usc.csv\")"
   ]
  },
  {
   "cell_type": "code",
   "execution_count": 17,
   "metadata": {},
   "outputs": [],
   "source": [
    "# r/DunderMifflin\n",
    "office_df = api.make_subreddit_df('DunderMifflin', 100, csv=\"../data/dundermifflin.csv\")"
   ]
  },
  {
   "cell_type": "code",
   "execution_count": 18,
   "metadata": {},
   "outputs": [],
   "source": [
    "# r/overwatch\n",
    "overwatch_df = api.make_subreddit_df('overwatch', 100, csv=\"../data/overwatch.csv\")"
   ]
  },
  {
   "cell_type": "code",
   "execution_count": 19,
   "metadata": {},
   "outputs": [],
   "source": [
    "# r/cirkeltrek\n",
    "dutch_df = api.make_subreddit_df('dutch', 100, csv=\"../data/dutch.csv\")"
   ]
  },
  {
   "cell_type": "markdown",
   "metadata": {},
   "source": [
    "### Preview some of the data"
   ]
  },
  {
   "cell_type": "code",
   "execution_count": 22,
   "metadata": {},
   "outputs": [
    {
     "data": {
      "text/html": [
       "<div>\n",
       "<style scoped>\n",
       "    .dataframe tbody tr th:only-of-type {\n",
       "        vertical-align: middle;\n",
       "    }\n",
       "\n",
       "    .dataframe tbody tr th {\n",
       "        vertical-align: top;\n",
       "    }\n",
       "\n",
       "    .dataframe thead th {\n",
       "        text-align: right;\n",
       "    }\n",
       "</style>\n",
       "<table border=\"1\" class=\"dataframe\">\n",
       "  <thead>\n",
       "    <tr style=\"text-align: right;\">\n",
       "      <th></th>\n",
       "      <th>title</th>\n",
       "      <th>id</th>\n",
       "      <th>subreddit</th>\n",
       "      <th>body</th>\n",
       "      <th>comment</th>\n",
       "    </tr>\n",
       "  </thead>\n",
       "  <tbody>\n",
       "    <tr>\n",
       "      <th>0</th>\n",
       "      <td>Class of 2023!</td>\n",
       "      <td>b4iyil</td>\n",
       "      <td>USC</td>\n",
       "      <td></td>\n",
       "      <td>I remember that day like yesterday. Best day o...</td>\n",
       "    </tr>\n",
       "    <tr>\n",
       "      <th>1</th>\n",
       "      <td>Class of 2023!</td>\n",
       "      <td>b4iyil</td>\n",
       "      <td>USC</td>\n",
       "      <td></td>\n",
       "      <td>Congrats! The day I received mine was one of t...</td>\n",
       "    </tr>\n",
       "    <tr>\n",
       "      <th>2</th>\n",
       "      <td>Class of 2023!</td>\n",
       "      <td>b4iyil</td>\n",
       "      <td>USC</td>\n",
       "      <td></td>\n",
       "      <td>I used to work in the financial aid/admissions...</td>\n",
       "    </tr>\n",
       "    <tr>\n",
       "      <th>3</th>\n",
       "      <td>Class of 2023!</td>\n",
       "      <td>b4iyil</td>\n",
       "      <td>USC</td>\n",
       "      <td></td>\n",
       "      <td>Congrats!</td>\n",
       "    </tr>\n",
       "    <tr>\n",
       "      <th>4</th>\n",
       "      <td>Class of 2023!</td>\n",
       "      <td>b4iyil</td>\n",
       "      <td>USC</td>\n",
       "      <td></td>\n",
       "      <td>Congratulations! Welcome! If you have any ques...</td>\n",
       "    </tr>\n",
       "  </tbody>\n",
       "</table>\n",
       "</div>"
      ],
      "text/plain": [
       "            title      id subreddit body  \\\n",
       "0  Class of 2023!  b4iyil       USC        \n",
       "1  Class of 2023!  b4iyil       USC        \n",
       "2  Class of 2023!  b4iyil       USC        \n",
       "3  Class of 2023!  b4iyil       USC        \n",
       "4  Class of 2023!  b4iyil       USC        \n",
       "\n",
       "                                             comment  \n",
       "0  I remember that day like yesterday. Best day o...  \n",
       "1  Congrats! The day I received mine was one of t...  \n",
       "2  I used to work in the financial aid/admissions...  \n",
       "3                                          Congrats!  \n",
       "4  Congratulations! Welcome! If you have any ques...  "
      ]
     },
     "execution_count": 22,
     "metadata": {},
     "output_type": "execute_result"
    }
   ],
   "source": [
    "usc_df.head()"
   ]
  },
  {
   "cell_type": "code",
   "execution_count": null,
   "metadata": {},
   "outputs": [],
   "source": []
  }
 ],
 "metadata": {
  "kernelspec": {
   "display_name": "Python 3",
   "language": "python",
   "name": "python3"
  },
  "language_info": {
   "codemirror_mode": {
    "name": "ipython",
    "version": 3
   },
   "file_extension": ".py",
   "mimetype": "text/x-python",
   "name": "python",
   "nbconvert_exporter": "python",
   "pygments_lexer": "ipython3",
   "version": "3.6.8"
  }
 },
 "nbformat": 4,
 "nbformat_minor": 2
}
