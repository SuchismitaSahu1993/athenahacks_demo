{
 "cells": [
  {
   "cell_type": "code",
   "execution_count": 1,
   "metadata": {},
   "outputs": [],
   "source": [
    "#import libraries\n",
    "import re\n",
    "import spacy\n",
    "\n",
    "import pandas as pd\n",
    "\n",
    "from collections import defaultdict\n",
    "from gensim.models import Word2Vec\n",
    "from gensim.models.phrases import Phrases, Phraser"
   ]
  },
  {
   "cell_type": "markdown",
   "metadata": {},
   "source": [
    "## Note - in order to use gensim, we must load the english language models. It's different depending on your OS:"
   ]
  },
  {
   "cell_type": "code",
   "execution_count": 18,
   "metadata": {},
   "outputs": [],
   "source": [
    "# Windows\n",
    "nlp = spacy.load('en_core_web_sm', disable=['ner', 'parser']) \n",
    "\n",
    "# Unix System (mac/ubuntu/etc.)\n",
    "# nlp = spacy.load('en', disable=['ner', 'parser']) \n"
   ]
  },
  {
   "cell_type": "code",
   "execution_count": 8,
   "metadata": {},
   "outputs": [],
   "source": [
    "# load r/gameofthrones data\n",
    "got_df = pd.read_csv('../data/gameofthrones.csv')"
   ]
  },
  {
   "cell_type": "code",
   "execution_count": 9,
   "metadata": {},
   "outputs": [
    {
     "data": {
      "text/html": [
       "<div>\n",
       "<style scoped>\n",
       "    .dataframe tbody tr th:only-of-type {\n",
       "        vertical-align: middle;\n",
       "    }\n",
       "\n",
       "    .dataframe tbody tr th {\n",
       "        vertical-align: top;\n",
       "    }\n",
       "\n",
       "    .dataframe thead th {\n",
       "        text-align: right;\n",
       "    }\n",
       "</style>\n",
       "<table border=\"1\" class=\"dataframe\">\n",
       "  <thead>\n",
       "    <tr style=\"text-align: right;\">\n",
       "      <th></th>\n",
       "      <th>Unnamed: 0</th>\n",
       "      <th>title</th>\n",
       "      <th>id</th>\n",
       "      <th>subreddit</th>\n",
       "      <th>body</th>\n",
       "      <th>comment</th>\n",
       "      <th>text</th>\n",
       "    </tr>\n",
       "  </thead>\n",
       "  <tbody>\n",
       "    <tr>\n",
       "      <th>0</th>\n",
       "      <td>0</td>\n",
       "      <td>[Spoilers] Game of Thrones Season 8 | Official...</td>\n",
       "      <td>axmpw7</td>\n",
       "      <td>gameofthrones</td>\n",
       "      <td>NaN</td>\n",
       "      <td>Make sure you [grab a house flair](https://www...</td>\n",
       "      <td>[Spoilers] Game of Thrones Season 8 | Official...</td>\n",
       "    </tr>\n",
       "    <tr>\n",
       "      <th>1</th>\n",
       "      <td>1</td>\n",
       "      <td>[Spoilers] Game of Thrones Season 8 | Official...</td>\n",
       "      <td>axmpw7</td>\n",
       "      <td>gameofthrones</td>\n",
       "      <td>NaN</td>\n",
       "      <td>I wonder whether Jon is standing in front of N...</td>\n",
       "      <td>[Spoilers] Game of Thrones Season 8 | Official...</td>\n",
       "    </tr>\n",
       "    <tr>\n",
       "      <th>2</th>\n",
       "      <td>2</td>\n",
       "      <td>[Spoilers] Game of Thrones Season 8 | Official...</td>\n",
       "      <td>axmpw7</td>\n",
       "      <td>gameofthrones</td>\n",
       "      <td>NaN</td>\n",
       "      <td>Wake me up on April 14 please. Thanks.</td>\n",
       "      <td>[Spoilers] Game of Thrones Season 8 | Official...</td>\n",
       "    </tr>\n",
       "    <tr>\n",
       "      <th>3</th>\n",
       "      <td>3</td>\n",
       "      <td>[Spoilers] Game of Thrones Season 8 | Official...</td>\n",
       "      <td>axmpw7</td>\n",
       "      <td>gameofthrones</td>\n",
       "      <td>NaN</td>\n",
       "      <td>\"Our enemy doesn't stop, doesn't tire, doesn't...</td>\n",
       "      <td>[Spoilers] Game of Thrones Season 8 | Official...</td>\n",
       "    </tr>\n",
       "    <tr>\n",
       "      <th>4</th>\n",
       "      <td>4</td>\n",
       "      <td>[Spoilers] Game of Thrones Season 8 | Official...</td>\n",
       "      <td>axmpw7</td>\n",
       "      <td>gameofthrones</td>\n",
       "      <td>NaN</td>\n",
       "      <td>Everyone fighting and Cersei is just chilling ...</td>\n",
       "      <td>[Spoilers] Game of Thrones Season 8 | Official...</td>\n",
       "    </tr>\n",
       "  </tbody>\n",
       "</table>\n",
       "</div>"
      ],
      "text/plain": [
       "   Unnamed: 0                                              title      id  \\\n",
       "0           0  [Spoilers] Game of Thrones Season 8 | Official...  axmpw7   \n",
       "1           1  [Spoilers] Game of Thrones Season 8 | Official...  axmpw7   \n",
       "2           2  [Spoilers] Game of Thrones Season 8 | Official...  axmpw7   \n",
       "3           3  [Spoilers] Game of Thrones Season 8 | Official...  axmpw7   \n",
       "4           4  [Spoilers] Game of Thrones Season 8 | Official...  axmpw7   \n",
       "\n",
       "       subreddit body                                            comment  \\\n",
       "0  gameofthrones  NaN  Make sure you [grab a house flair](https://www...   \n",
       "1  gameofthrones  NaN  I wonder whether Jon is standing in front of N...   \n",
       "2  gameofthrones  NaN            Wake me up on April 14 please. Thanks.    \n",
       "3  gameofthrones  NaN  \"Our enemy doesn't stop, doesn't tire, doesn't...   \n",
       "4  gameofthrones  NaN  Everyone fighting and Cersei is just chilling ...   \n",
       "\n",
       "                                                text  \n",
       "0  [Spoilers] Game of Thrones Season 8 | Official...  \n",
       "1  [Spoilers] Game of Thrones Season 8 | Official...  \n",
       "2  [Spoilers] Game of Thrones Season 8 | Official...  \n",
       "3  [Spoilers] Game of Thrones Season 8 | Official...  \n",
       "4  [Spoilers] Game of Thrones Season 8 | Official...  "
      ]
     },
     "execution_count": 9,
     "metadata": {},
     "output_type": "execute_result"
    }
   ],
   "source": [
    "# view some of the data\n",
    "got_df.head()"
   ]
  },
  {
   "cell_type": "markdown",
   "metadata": {},
   "source": [
    "### How are we doing w.r.t. missing values?\n",
    "Just to make sure everything worked, let's check the state of missing values in our data"
   ]
  },
  {
   "cell_type": "code",
   "execution_count": 10,
   "metadata": {},
   "outputs": [
    {
     "data": {
      "text/plain": [
       "Unnamed: 0         0\n",
       "title              0\n",
       "id                 0\n",
       "subreddit          0\n",
       "body          165902\n",
       "comment           13\n",
       "text               0\n",
       "dtype: int64"
      ]
     },
     "execution_count": 10,
     "metadata": {},
     "output_type": "execute_result"
    }
   ],
   "source": [
    "got_df.isnull().sum()"
   ]
  },
  {
   "cell_type": "markdown",
   "metadata": {},
   "source": [
    "It looks like the majority of posts dont have any data for `body`. This makes sense: some subreddits don't let you post a body if you're posting a link. We'll drop the missing comment data, since that'll be the basis for our analysis."
   ]
  },
  {
   "cell_type": "code",
   "execution_count": 12,
   "metadata": {},
   "outputs": [
    {
     "data": {
      "text/plain": [
       "Unnamed: 0         0\n",
       "title              0\n",
       "id                 0\n",
       "subreddit          0\n",
       "body          165890\n",
       "comment            0\n",
       "text               0\n",
       "dtype: int64"
      ]
     },
     "execution_count": 12,
     "metadata": {},
     "output_type": "execute_result"
    }
   ],
   "source": [
    "# remove rows with missing comments\n",
    "got_df = got_df[pd.notnull(got_df['comment'])]\n",
    "\n",
    "# make sure no missing comments\n",
    "got_df.isnull().sum()"
   ]
  },
  {
   "cell_type": "markdown",
   "metadata": {},
   "source": [
    "# Preprocess Text"
   ]
  },
  {
   "cell_type": "code",
   "execution_count": 25,
   "metadata": {},
   "outputs": [],
   "source": [
    "def remove_stopwords(doc):\n",
    "    txt = [token for token in doc if not token.is_stop]\n",
    "    return txt\n",
    "\n",
    "def lemmatize(doc):\n",
    "    txt = [token.lemma_ for token in doc]\n",
    "    return txt\n",
    "\n",
    "def clean_text(doc, lem=True):\n",
    "    # remove_stopwords\n",
    "    txt = remove_stopwords(doc)\n",
    "    # lemmatize\n",
    "    if lem:\n",
    "        txt = lemmatize(txt)\n",
    "    # don't return text if it's too short\n",
    "    if len(txt) > 2:\n",
    "        return ' '.join(txt)"
   ]
  },
  {
   "cell_type": "code",
   "execution_count": 37,
   "metadata": {},
   "outputs": [],
   "source": [
    "noise_tokens = ['com','a', 'www', 'ibb_co', 'r','s', 'b', 'ff', 'f', 'fc', 'cc', 'wiki', 'https', 'https_www', 'reddit_com', 'http', 'r_gameofthrone', 'c', 'jpg', 'gallery',\n",
    "            'en_wikipedia', 'org', 'np_reddit', 'reddit_gameofthrone', 'policy', 'message', 'guide', 'reminder', 'delete', 'gameofthrone',\n",
    "            'q', 'link', 'reddit_gameofthrone', 'v', 'comment', 'png', 'w', 'silver', 'gold', 'o', 'youtube_watch', 'post', 'imgur', 'reddit',\n",
    "            'h', 'n', 'st', 'l', 'g', 'j', 'ibb', 'co', 'gif', 'k', 'gameofthrone', 'comment', 'post', 'x', 'subject',\n",
    "            'info', 'compose', 'np']\n",
    "\n",
    "# remove non-alphabetic characters & noise words\n",
    "def filter_text(comment):\n",
    "    # remove non-alpha characters\n",
    "    alpha_comment = re.sub(\"[^A-Za-z']+\", ' ', str(comment)).lower()\n",
    "    # filter out bad words\n",
    "    tokens = [word.lower() for word in alpha_comment.split() if word.lower() not in noise_tokens]\n",
    "    return ' '.join(tokens)\n",
    "brief_cleaning = (filter_text(row) for row in got_df['comment'])"
   ]
  },
  {
   "cell_type": "code",
   "execution_count": 38,
   "metadata": {},
   "outputs": [
    {
     "data": {
      "text/plain": [
       "<generator object <genexpr> at 0x000001BEB957F258>"
      ]
     },
     "execution_count": 38,
     "metadata": {},
     "output_type": "execute_result"
    }
   ],
   "source": [
    "brief_cleaning"
   ]
  },
  {
   "cell_type": "code",
   "execution_count": 39,
   "metadata": {},
   "outputs": [
    {
     "name": "stdout",
     "output_type": "stream",
     "text": [
      "Wall time: 0 ns\n"
     ]
    }
   ],
   "source": [
    "%time\n",
    "txt = [clean_text(doc) for doc in nlp.pipe(brief_cleaning, batch_size=5000, n_threads=-1)]"
   ]
  },
  {
   "cell_type": "code",
   "execution_count": 41,
   "metadata": {},
   "outputs": [
    {
     "data": {
      "text/plain": [
       "(136434, 1)"
      ]
     },
     "execution_count": 41,
     "metadata": {},
     "output_type": "execute_result"
    }
   ],
   "source": [
    "df_clean = pd.DataFrame({'clean': txt})\n",
    "df_clean = df_clean.dropna().drop_duplicates()\n",
    "df_clean.shape"
   ]
  },
  {
   "cell_type": "code",
   "execution_count": 42,
   "metadata": {},
   "outputs": [],
   "source": [
    "sent = [row.split() for row in df_clean['clean']]"
   ]
  },
  {
   "cell_type": "markdown",
   "metadata": {},
   "source": [
    "## Get Bigrams"
   ]
  },
  {
   "cell_type": "code",
   "execution_count": 43,
   "metadata": {},
   "outputs": [],
   "source": [
    "bigram = Phrases(sent, min_count=30, progress_per=5000)"
   ]
  },
  {
   "cell_type": "code",
   "execution_count": 44,
   "metadata": {},
   "outputs": [],
   "source": [
    "sentences = bigram[sent]"
   ]
  },
  {
   "cell_type": "code",
   "execution_count": 45,
   "metadata": {},
   "outputs": [
    {
     "data": {
      "text/plain": [
       "<gensim.interfaces.TransformedCorpus at 0x1be89162390>"
      ]
     },
     "execution_count": 45,
     "metadata": {},
     "output_type": "execute_result"
    }
   ],
   "source": [
    "sentences"
   ]
  },
  {
   "cell_type": "code",
   "execution_count": 46,
   "metadata": {},
   "outputs": [
    {
     "data": {
      "text/plain": [
       "48503"
      ]
     },
     "execution_count": 46,
     "metadata": {},
     "output_type": "execute_result"
    }
   ],
   "source": [
    "word_freq = defaultdict(int)\n",
    "for sent in sentences:\n",
    "    for i in sent:\n",
    "        word_freq[i] += 1\n",
    "len(word_freq)"
   ]
  },
  {
   "cell_type": "code",
   "execution_count": 47,
   "metadata": {},
   "outputs": [
    {
     "data": {
      "text/plain": [
       "['think',\n",
       " 'like',\n",
       " 'know',\n",
       " 'get',\n",
       " 'jon',\n",
       " 'good',\n",
       " 'time',\n",
       " 'go',\n",
       " 'people',\n",
       " 'book',\n",
       " 'season',\n",
       " 'look',\n",
       " 'say',\n",
       " 'thing',\n",
       " 'want',\n",
       " 'way',\n",
       " 'love',\n",
       " 'kill',\n",
       " 'come',\n",
       " 'see']"
      ]
     },
     "execution_count": 47,
     "metadata": {},
     "output_type": "execute_result"
    }
   ],
   "source": [
    "sorted(word_freq, key=word_freq.get, reverse=True)[:20]"
   ]
  },
  {
   "cell_type": "markdown",
   "metadata": {},
   "source": [
    "# word2vec training"
   ]
  },
  {
   "cell_type": "code",
   "execution_count": 49,
   "metadata": {},
   "outputs": [],
   "source": [
    "w2v_model = Word2Vec(min_count=20,\n",
    "                     window=2,\n",
    "                     size=300,\n",
    "                     sample=6e-5, \n",
    "                     alpha=0.03, \n",
    "                     min_alpha=0.0007, \n",
    "                     negative=20,\n",
    "                     workers=7)"
   ]
  },
  {
   "cell_type": "code",
   "execution_count": 50,
   "metadata": {},
   "outputs": [
    {
     "name": "stdout",
     "output_type": "stream",
     "text": [
      "Wall time: 0 ns\n"
     ]
    }
   ],
   "source": [
    "%%time\n",
    "w2v_model.build_vocab(sentences, progress_per=10000)\n"
   ]
  },
  {
   "cell_type": "code",
   "execution_count": 51,
   "metadata": {},
   "outputs": [
    {
     "name": "stdout",
     "output_type": "stream",
     "text": [
      "Wall time: 8min 20s\n"
     ]
    },
    {
     "data": {
      "text/plain": [
       "(20584963, 43820580)"
      ]
     },
     "execution_count": 51,
     "metadata": {},
     "output_type": "execute_result"
    }
   ],
   "source": [
    "%%time\n",
    "w2v_model.train(sentences, total_examples=w2v_model.corpus_count, epochs=30, report_delay=1)\n"
   ]
  },
  {
   "cell_type": "code",
   "execution_count": 52,
   "metadata": {},
   "outputs": [],
   "source": [
    "# make model more memory efficient\n",
    "w2v_model.init_sims(replace=True)"
   ]
  },
  {
   "cell_type": "code",
   "execution_count": 53,
   "metadata": {},
   "outputs": [
    {
     "data": {
      "text/plain": [
       "[('lady_stoneheart', 0.619478702545166),\n",
       " ('lsh', 0.5528901815414429),\n",
       " ('resurrect', 0.5388072729110718),\n",
       " ('thoros', 0.5368763208389282),\n",
       " ('beric', 0.5333837270736694),\n",
       " ('revive', 0.5103162527084351),\n",
       " ('dondarrion', 0.5072036981582642),\n",
       " ('berric', 0.507118284702301),\n",
       " ('thoro', 0.4974755048751831),\n",
       " ('resurrection', 0.4882705807685852)]"
      ]
     },
     "execution_count": 53,
     "metadata": {},
     "output_type": "execute_result"
    }
   ],
   "source": [
    "# play with model\n",
    "w2v_model.wv.most_similar(positive=[\"stoneheart\"])\n"
   ]
  },
  {
   "cell_type": "code",
   "execution_count": 54,
   "metadata": {},
   "outputs": [
    {
     "data": {
      "text/plain": [
       "[('emilia', 0.5985122919082642),\n",
       " ('harrington', 0.5421903133392334),\n",
       " ('sophie', 0.5121541023254395),\n",
       " ('kit_harington', 0.49895262718200684),\n",
       " ('kit_harrington', 0.4639463424682617),\n",
       " ('maisie', 0.4636714458465576),\n",
       " ('liam_cunningham', 0.44022348523139954),\n",
       " ('rory', 0.4235354959964752),\n",
       " ('expressive', 0.4154559373855591),\n",
       " ('lena_heady', 0.4100172519683838)]"
      ]
     },
     "execution_count": 54,
     "metadata": {},
     "output_type": "execute_result"
    }
   ],
   "source": [
    "w2v_model.wv.most_similar(positive=[\"kit\"])"
   ]
  },
  {
   "cell_type": "code",
   "execution_count": 55,
   "metadata": {},
   "outputs": [
    {
     "name": "stdout",
     "output_type": "stream",
     "text": [
      "0.25391802\n",
      "0.23033652\n"
     ]
    }
   ],
   "source": [
    "print(w2v_model.wv.similarity(\"jon\", 'snow'))\n",
    "print(w2v_model.wv.similarity(\"jon\", 'lannister'))"
   ]
  },
  {
   "cell_type": "code",
   "execution_count": 56,
   "metadata": {},
   "outputs": [
    {
     "name": "stdout",
     "output_type": "stream",
     "text": [
      "0.21379654\n",
      "0.5630528\n"
     ]
    }
   ],
   "source": [
    "print(w2v_model.wv.similarity(\"jon\", 'kingslayer'))\n",
    "print(w2v_model.wv.similarity(\"jaime\", 'kingslayer'))"
   ]
  },
  {
   "cell_type": "code",
   "execution_count": 382,
   "metadata": {},
   "outputs": [
    {
     "data": {
      "text/plain": [
       "'jon'"
      ]
     },
     "execution_count": 382,
     "metadata": {},
     "output_type": "execute_result"
    }
   ],
   "source": [
    "w2v_model.wv.doesnt_match(['jamie', 'tyrion', 'jon', 'tywin'])"
   ]
  },
  {
   "cell_type": "code",
   "execution_count": 58,
   "metadata": {},
   "outputs": [
    {
     "name": "stderr",
     "output_type": "stream",
     "text": [
      "c:\\users\\jared.wilber\\appdata\\local\\continuum\\anaconda3\\envs\\athena\\lib\\site-packages\\gensim\\models\\keyedvectors.py:858: FutureWarning: arrays to stack must be passed as a \"sequence\" type such as list or tuple. Support for non-sequence iterables such as generators is deprecated as of NumPy 1.16 and will raise an error in the future.\n",
      "  vectors = vstack(self.word_vec(word, use_norm=True) for word in used_words).astype(REAL)\n"
     ]
    },
    {
     "data": {
      "text/plain": [
       "'arya'"
      ]
     },
     "execution_count": 58,
     "metadata": {},
     "output_type": "execute_result"
    }
   ],
   "source": [
    "w2v_model.wv.doesnt_match(['sansa', 'arya', 'littlefinger'])"
   ]
  },
  {
   "cell_type": "code",
   "execution_count": 59,
   "metadata": {},
   "outputs": [
    {
     "data": {
      "text/plain": [
       "'greyjoy'"
      ]
     },
     "execution_count": 59,
     "metadata": {},
     "output_type": "execute_result"
    }
   ],
   "source": [
    "w2v_model.wv.doesnt_match(['lannister', 'stark', 'greyjoy', 'tyrell'])"
   ]
  },
  {
   "cell_type": "code",
   "execution_count": 61,
   "metadata": {},
   "outputs": [
    {
     "data": {
      "text/plain": [
       "[('hairy', 0.5148831009864807),\n",
       " ('bun', 0.46956121921539307),\n",
       " ('manly', 0.46892204880714417),\n",
       " ('hella', 0.4559461772441864),\n",
       " ('emma', 0.4306665062904358),\n",
       " ('attractive', 0.4265427887439728),\n",
       " ('combo', 0.39354991912841797),\n",
       " ('bleach', 0.3907240629196167),\n",
       " ('fabulous', 0.3867296278476715),\n",
       " ('cosplayer', 0.385781466960907),\n",
       " ('cosplaye', 0.38535475730895996),\n",
       " ('outfit', 0.3836440443992615),\n",
       " ('asian', 0.3834472894668579),\n",
       " ('cute', 0.38336920738220215),\n",
       " ('naturally', 0.3827199935913086)]"
      ]
     },
     "execution_count": 61,
     "metadata": {},
     "output_type": "execute_result"
    }
   ],
   "source": [
    "w2v_model.wv.most_similar(positive=[\"stark\", \"sexy\"], negative=[\"stark\"], topn=15)"
   ]
  },
  {
   "cell_type": "code",
   "execution_count": 62,
   "metadata": {},
   "outputs": [
    {
     "data": {
      "text/plain": [
       "[('hold_door', 0.5283201932907104),\n",
       " ('jojen', 0.41176626086235046),\n",
       " ('sam_gilly', 0.39575034379959106),\n",
       " ('pod', 0.3914218246936798),\n",
       " ('hodor_hodor', 0.38553208112716675),\n",
       " ('meera', 0.38212907314300537),\n",
       " ('bronn', 0.3816606402397156),\n",
       " ('willis', 0.3589194416999817),\n",
       " ('ex_machina', 0.35759615898132324),\n",
       " ('brienne_tarth', 0.352735310792923)]"
      ]
     },
     "execution_count": 62,
     "metadata": {},
     "output_type": "execute_result"
    }
   ],
   "source": [
    "w2v_model.wv.most_similar(positive=[\"hodor\", \"bron\"], topn=10)"
   ]
  },
  {
   "cell_type": "code",
   "execution_count": 78,
   "metadata": {},
   "outputs": [
    {
     "name": "stdout",
     "output_type": "stream",
     "text": [
      "Wall time: 0 ns\n"
     ]
    },
    {
     "data": {
      "text/plain": [
       "[('victarion', 0.49290987849235535),\n",
       " ('asha', 0.4251917004585266),\n",
       " ('balon', 0.42138567566871643),\n",
       " ('theon', 0.4074419140815735),\n",
       " ('yara', 0.3850886821746826),\n",
       " ('reek', 0.3712819218635559),\n",
       " ('favourite_character', 0.35579365491867065),\n",
       " ('arianne', 0.35482949018478394),\n",
       " ('redemption_arc', 0.350915789604187),\n",
       " ('drown', 0.3452707529067993)]"
      ]
     },
     "execution_count": 78,
     "metadata": {},
     "output_type": "execute_result"
    }
   ],
   "source": [
    "%time\n",
    "w2v_model.wv.most_similar(positive=[\"sad\", \"greyjoy\"], topn=10)"
   ]
  },
  {
   "cell_type": "markdown",
   "metadata": {},
   "source": [
    "# t-sne"
   ]
  },
  {
   "cell_type": "code",
   "execution_count": 79,
   "metadata": {},
   "outputs": [],
   "source": [
    "import numpy as np\n",
    "import matplotlib.pyplot as plt\n",
    "%matplotlib inline\n",
    " \n",
    "import seaborn as sns\n",
    "sns.set_style(\"darkgrid\")\n",
    "\n",
    "from sklearn.decomposition import PCA\n",
    "from sklearn.manifold import TSNE"
   ]
  },
  {
   "cell_type": "code",
   "execution_count": 80,
   "metadata": {},
   "outputs": [],
   "source": [
    "def tsnescatterplot(model, word, list_names):\n",
    "    \"\"\" Plot in seaborn the results from the t-SNE dimensionality reduction algorithm of the vectors of a query word,\n",
    "    its list of most similar words, and a list of words.\n",
    "    \"\"\"\n",
    "    arrays = np.empty((0, 300), dtype='f')\n",
    "    word_labels = [word]\n",
    "    color_list  = ['red']\n",
    "\n",
    "    # adds the vector of the query word\n",
    "    arrays = np.append(arrays, model.wv.__getitem__([word]), axis=0)\n",
    "    \n",
    "    # gets list of most similar words\n",
    "    close_words = model.wv.most_similar([word])\n",
    "    \n",
    "    # adds the vector for each of the closest words to the array\n",
    "    for wrd_score in close_words:\n",
    "        wrd_vector = model.wv.__getitem__([wrd_score[0]])\n",
    "        word_labels.append(wrd_score[0])\n",
    "        color_list.append('blue')\n",
    "        arrays = np.append(arrays, wrd_vector, axis=0)\n",
    "    \n",
    "    # adds the vector for each of the words from list_names to the array\n",
    "    for wrd in list_names:\n",
    "        wrd_vector = model.wv.__getitem__([wrd])\n",
    "        word_labels.append(wrd)\n",
    "        color_list.append('green')\n",
    "        arrays = np.append(arrays, wrd_vector, axis=0)\n",
    "    # Reduces the dimensionality from 300 to 50 dimensions with PCA\n",
    "    reduc = PCA(n_components=10).fit_transform(arrays)\n",
    "    \n",
    "    # Finds t-SNE coordinates for 2 dimensions\n",
    "    np.set_printoptions(suppress=True)\n",
    "    \n",
    "    Y = TSNE(n_components=2, random_state=0, perplexity=15).fit_transform(reduc)\n",
    "    \n",
    "    # Sets everything up to plot\n",
    "    df = pd.DataFrame({'x': [x for x in Y[:, 0]],\n",
    "                       'y': [y for y in Y[:, 1]],\n",
    "                       'words': word_labels,\n",
    "                       'color': color_list})\n",
    "    \n",
    "    fig, _ = plt.subplots()\n",
    "    fig.set_size_inches(9, 9)\n",
    "    \n",
    "    # Basic plot\n",
    "    p1 = sns.regplot(data=df,\n",
    "                     x=\"x\",\n",
    "                     y=\"y\",\n",
    "                     fit_reg=False,\n",
    "                     marker=\"o\",\n",
    "                     scatter_kws={'s': 40,\n",
    "                                  'facecolors': df['color']\n",
    "                                 }\n",
    "                    )\n",
    "    \n",
    "    # Adds annotations one by one with a loop\n",
    "    for line in range(0, df.shape[0]):\n",
    "         p1.text(df[\"x\"][line],\n",
    "                 df['y'][line],\n",
    "                 '  ' + df[\"words\"][line].title(),\n",
    "                 horizontalalignment='left',\n",
    "                 verticalalignment='bottom', size='medium',\n",
    "                 color=df['color'][line],\n",
    "                 weight='normal'\n",
    "                ).set_size(15)\n",
    "\n",
    "    \n",
    "    plt.xlim(Y[:, 0].min()-50, Y[:, 0].max()+50)\n",
    "    plt.ylim(Y[:, 1].min()-50, Y[:, 1].max()+50)\n",
    "            \n",
    "    plt.title('t-SNE visualization for {}'.format(word.title()))"
   ]
  },
  {
   "cell_type": "code",
   "execution_count": 81,
   "metadata": {},
   "outputs": [
    {
     "data": {
      "image/png": "[encoded data removed]",
      "text/plain": [
       "<Figure size 648x648 with 1 Axes>"
      ]
     },
     "metadata": {
      "needs_background": "light"
     },
     "output_type": "display_data"
    }
   ],
   "source": [
    "tsnescatterplot(w2v_model, 'arya', [i[0] for i in w2v_model.wv.most_similar(negative=[\"arya\"])])"
   ]
  },
  {
   "cell_type": "code",
   "execution_count": null,
   "metadata": {},
   "outputs": [],
   "source": [
    "bad_words = ['com', 'wiki', 'https', 'https_www', 'reddit_com', 'http', 'r_gameofthrone', 'c', 'jpg', 'gallery']"
   ]
  },
  {
   "cell_type": "code",
   "execution_count": 378,
   "metadata": {},
   "outputs": [
    {
     "name": "stdout",
     "output_type": "stream",
     "text": [
      "['Amsterdam', 'Prague']\n"
     ]
    }
   ],
   "source": [
    "import difflib\n",
    "def correct_name(first, second):\n",
    "    return difflib.SequenceMatcher(first, first, second).ratio() > 0.05\n",
    "\n",
    "first = ['barca', 'emstrdam', 'Praga']\n",
    "second = ['New York', 'Amsterdam', 'Barcelona', 'Berlin', 'Prague']\n",
    "\n",
    "result = [s for f in first for s in second if is_similar(f,s, 0.7)]\n",
    "print(result)\n"
   ]
  },
  {
   "cell_type": "code",
   "execution_count": null,
   "metadata": {},
   "outputs": [],
   "source": []
  },
  {
   "cell_type": "code",
   "execution_count": null,
   "metadata": {},
   "outputs": [],
   "source": []
  }
 ],
 "metadata": {
  "kernelspec": {
   "display_name": "Python 3",
   "language": "python",
   "name": "python3"
  },
  "language_info": {
   "codemirror_mode": {
    "name": "ipython",
    "version": 3
   },
   "file_extension": ".py",
   "mimetype": "text/x-python",
   "name": "python",
   "nbconvert_exporter": "python",
   "pygments_lexer": "ipython3",
   "version": "3.6.8"
  }
 },
 "nbformat": 4,
 "nbformat_minor": 2
}
