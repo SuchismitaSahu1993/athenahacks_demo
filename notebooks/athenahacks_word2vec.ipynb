{
 "cells": [
  {
   "cell_type": "code",
   "execution_count": 1,
   "metadata": {},
   "outputs": [],
   "source": [
    "import gensim\n",
    "import praw\n",
    "\n",
    "import pandas as pd\n",
    "\n",
    "from praw.models import MoreComments\n"
   ]
  },
  {
   "cell_type": "code",
   "execution_count": 2,
   "metadata": {},
   "outputs": [],
   "source": [
    "client_id = 'G8fBBbcIW9LTMw'\n",
    "client_secret = 'lVZeGZcWcUBFUBC0-CYL32iCUHw'\n",
    "user_agent = 'athenahacks'\n",
    "reddit = praw.Reddit(client_id=client_id, client_secret=client_secret, user_agent=user_agent)"
   ]
  },
  {
   "cell_type": "code",
   "execution_count": 55,
   "metadata": {},
   "outputs": [],
   "source": [
    "def create_subreddit_df(subreddit, n=10):\n",
    "    \"\"\"Create dataframe of top n posts for a given subreddit.\"\"\"\n",
    "    posts = []\n",
    "    subred = reddit.subreddit(subreddit)\n",
    "    for post in subred.top(limit=n):\n",
    "        posts.append([post.title, post.id, post.subreddit, post.url, post.selftext])\n",
    "    subreddit_df = pd.DataFrame(posts,columns=['title', 'id', 'subreddit', 'url',  'body'])\n",
    "    return subreddit_df\n",
    "\n",
    "def get_comment_submissions(subreddit_df):\n",
    "    \"\"\"Get top comments for a given subreddit.\"\"\"\n",
    "    subreddit_comments = []\n",
    "    for thread_id in subreddit_df['id']:\n",
    "        submission = reddit.submission(id=thread_id)\n",
    "        # Allow recursive comment collection\n",
    "        submission.comments.replace_more(limit=0)\n",
    "        # collect tuples of (thread, comment)\n",
    "        # Note - I'm doing tuples so I can easily join back to subreddit_df later\n",
    "        submission_comments = [(thread_id, sub.body) for sub in submission.comments.list()]\n",
    "        subreddit_comments.append(submission_comments)\n",
    "    # unnest all comments\n",
    "    unnested_comments = [coms for thread in subreddit_comments for coms in thread]\n",
    "    # coerce to pandas dataframe\n",
    "    comment_df = pd.DataFrame(unnested_comments, columns=['id', 'comment'])\n",
    "    return comment_df\n",
    "\n"
   ]
  },
  {
   "cell_type": "code",
   "execution_count": 325,
   "metadata": {},
   "outputs": [],
   "source": [
    "import multiprocessing\n",
    "import praw\n",
    "import re\n",
    "import spacy\n",
    "\n",
    "import pandas as pd\n",
    "\n",
    "from collections import defaultdict\n",
    "from gensim.models import Word2Vec\n",
    "from gensim.models.phrases import Phrases, Phraser\n",
    "from time import time\n",
    "\n",
    "class ScrapeReddit():\n",
    "    \"\"\"\n",
    "    Scrape reddit threads & comments via praw.\n",
    "    \"\"\"\n",
    "    \n",
    "    def __init__(self, client_id, client_secret, user_agent):\n",
    "        # probably bad to store api creds as attributes? it's a demo whatever\n",
    "        self.client_id = client_id\n",
    "        self.client_secret = client_secret\n",
    "        self.user_agent = user_agent\n",
    "        self.reddit = self.connect_to_api()\n",
    "        \n",
    "    def connect_to_api(self):\n",
    "        \"\"\"\n",
    "        Connect to reddit API.\n",
    "        \"\"\"\n",
    "        reddit = praw.Reddit(client_id=self.client_id, \n",
    "                             client_secret=self.client_secret, \n",
    "                             user_agent=self.user_agent)\n",
    "        return reddit\n",
    "    \n",
    "    def get_thread_df(self, subreddit, n):\n",
    "        \"\"\"\n",
    "        Create dataframe of top n posts for a given subreddit.\n",
    "        \"\"\"\n",
    "        posts = []\n",
    "        subred = self.reddit.subreddit(subreddit)\n",
    "        for post in subred.top(limit=n):\n",
    "            posts.append([post.title, post.id, post.subreddit, post.selftext])\n",
    "        thread_df = pd.DataFrame(posts, columns=['title', 'id', 'subreddit', 'body'])\n",
    "        return thread_df\n",
    "    \n",
    "    @staticmethod\n",
    "    def get_comment_submissions(subreddit_df):\n",
    "        \"\"\"\n",
    "        Get top comments for a given subreddit.\n",
    "        \"\"\"\n",
    "        subreddit_comments = []\n",
    "        for thread_id in subreddit_df['id']:\n",
    "            submission = reddit.submission(id=thread_id)\n",
    "            # Allow recursive comment collection\n",
    "            submission.comments.replace_more(limit=0)\n",
    "            # collect tuples of (thread, comment)\n",
    "            submission_comments = [(thread_id, sub.body) for sub in submission.comments.list()]\n",
    "            subreddit_comments.append(submission_comments)\n",
    "        # unnest all comments\n",
    "        unnested_comments = [coms for thread in subreddit_comments for coms in thread]\n",
    "        # coerce to pandas dataframe\n",
    "        comment_df = pd.DataFrame(unnested_comments, columns=['id', 'comment'])\n",
    "        return comment_df\n",
    "    \n",
    "    def make_subreddit_df(self, subreddit, n):\n",
    "        \"\"\"\n",
    "        Create subreddit dataframe.\n",
    "        \"\"\"\n",
    "        thread_df = self.get_thread_df(subreddit, n)\n",
    "        comment_df = self.get_comment_submissions(thread_df)\n",
    "        subreddit_df = pd.merge(thread_df, comment_df, on='id', how='inner')\n",
    "        return subreddit_df\n",
    "            "
   ]
  },
  {
   "cell_type": "code",
   "execution_count": 326,
   "metadata": {},
   "outputs": [],
   "source": [
    "api = ScrapeReddit(client_id, client_secret, user_agent)\n",
    "reddit_df = api.make_subreddit_df('gameofthrones', 500)"
   ]
  },
  {
   "cell_type": "code",
   "execution_count": 327,
   "metadata": {},
   "outputs": [
    {
     "data": {
      "text/html": [
       "<div>\n",
       "<style scoped>\n",
       "    .dataframe tbody tr th:only-of-type {\n",
       "        vertical-align: middle;\n",
       "    }\n",
       "\n",
       "    .dataframe tbody tr th {\n",
       "        vertical-align: top;\n",
       "    }\n",
       "\n",
       "    .dataframe thead th {\n",
       "        text-align: right;\n",
       "    }\n",
       "</style>\n",
       "<table border=\"1\" class=\"dataframe\">\n",
       "  <thead>\n",
       "    <tr style=\"text-align: right;\">\n",
       "      <th></th>\n",
       "      <th>title</th>\n",
       "      <th>id</th>\n",
       "      <th>subreddit</th>\n",
       "      <th>body</th>\n",
       "      <th>comment</th>\n",
       "    </tr>\n",
       "  </thead>\n",
       "  <tbody>\n",
       "    <tr>\n",
       "      <th>0</th>\n",
       "      <td>[Spoilers] Game of Thrones Season 8 | Official...</td>\n",
       "      <td>axmpw7</td>\n",
       "      <td>gameofthrones</td>\n",
       "      <td></td>\n",
       "      <td>Make sure you [grab a house flair](https://www...</td>\n",
       "    </tr>\n",
       "    <tr>\n",
       "      <th>1</th>\n",
       "      <td>[Spoilers] Game of Thrones Season 8 | Official...</td>\n",
       "      <td>axmpw7</td>\n",
       "      <td>gameofthrones</td>\n",
       "      <td></td>\n",
       "      <td>I wonder whether Jon is standing in front of N...</td>\n",
       "    </tr>\n",
       "    <tr>\n",
       "      <th>2</th>\n",
       "      <td>[Spoilers] Game of Thrones Season 8 | Official...</td>\n",
       "      <td>axmpw7</td>\n",
       "      <td>gameofthrones</td>\n",
       "      <td></td>\n",
       "      <td>Wake me up on April 14 please. Thanks.</td>\n",
       "    </tr>\n",
       "    <tr>\n",
       "      <th>3</th>\n",
       "      <td>[Spoilers] Game of Thrones Season 8 | Official...</td>\n",
       "      <td>axmpw7</td>\n",
       "      <td>gameofthrones</td>\n",
       "      <td></td>\n",
       "      <td>\"Our enemy doesn't stop, doesn't tire, doesn't...</td>\n",
       "    </tr>\n",
       "    <tr>\n",
       "      <th>4</th>\n",
       "      <td>[Spoilers] Game of Thrones Season 8 | Official...</td>\n",
       "      <td>axmpw7</td>\n",
       "      <td>gameofthrones</td>\n",
       "      <td></td>\n",
       "      <td>Everyone fighting and Cersei is just chilling ...</td>\n",
       "    </tr>\n",
       "    <tr>\n",
       "      <th>5</th>\n",
       "      <td>[Spoilers] Game of Thrones Season 8 | Official...</td>\n",
       "      <td>axmpw7</td>\n",
       "      <td>gameofthrones</td>\n",
       "      <td></td>\n",
       "      <td>Seeing Arya, a cold blooded assassin run scare...</td>\n",
       "    </tr>\n",
       "    <tr>\n",
       "      <th>6</th>\n",
       "      <td>[Spoilers] Game of Thrones Season 8 | Official...</td>\n",
       "      <td>axmpw7</td>\n",
       "      <td>gameofthrones</td>\n",
       "      <td></td>\n",
       "      <td>I have a feeling we are about to lose half of ...</td>\n",
       "    </tr>\n",
       "    <tr>\n",
       "      <th>7</th>\n",
       "      <td>[Spoilers] Game of Thrones Season 8 | Official...</td>\n",
       "      <td>axmpw7</td>\n",
       "      <td>gameofthrones</td>\n",
       "      <td></td>\n",
       "      <td>Aww man, I was enjoying the 15 minute videos a...</td>\n",
       "    </tr>\n",
       "    <tr>\n",
       "      <th>8</th>\n",
       "      <td>[Spoilers] Game of Thrones Season 8 | Official...</td>\n",
       "      <td>axmpw7</td>\n",
       "      <td>gameofthrones</td>\n",
       "      <td></td>\n",
       "      <td>Jon is sooo gonna ride Rhaegal.\\n\\nEdit: it's ...</td>\n",
       "    </tr>\n",
       "    <tr>\n",
       "      <th>9</th>\n",
       "      <td>[Spoilers] Game of Thrones Season 8 | Official...</td>\n",
       "      <td>axmpw7</td>\n",
       "      <td>gameofthrones</td>\n",
       "      <td></td>\n",
       "      <td>Im gonna be so pissed if i die before the seri...</td>\n",
       "    </tr>\n",
       "    <tr>\n",
       "      <th>10</th>\n",
       "      <td>[Spoilers] Game of Thrones Season 8 | Official...</td>\n",
       "      <td>axmpw7</td>\n",
       "      <td>gameofthrones</td>\n",
       "      <td></td>\n",
       "      <td>Final scene of Brienne and co looking and at t...</td>\n",
       "    </tr>\n",
       "    <tr>\n",
       "      <th>11</th>\n",
       "      <td>[Spoilers] Game of Thrones Season 8 | Official...</td>\n",
       "      <td>axmpw7</td>\n",
       "      <td>gameofthrones</td>\n",
       "      <td></td>\n",
       "      <td>Jon’s definitely riding a dragon this season.</td>\n",
       "    </tr>\n",
       "    <tr>\n",
       "      <th>12</th>\n",
       "      <td>[Spoilers] Game of Thrones Season 8 | Official...</td>\n",
       "      <td>axmpw7</td>\n",
       "      <td>gameofthrones</td>\n",
       "      <td></td>\n",
       "      <td>TORMUND IS ALIVE FUCK YEAH!!</td>\n",
       "    </tr>\n",
       "    <tr>\n",
       "      <th>13</th>\n",
       "      <td>[Spoilers] Game of Thrones Season 8 | Official...</td>\n",
       "      <td>axmpw7</td>\n",
       "      <td>gameofthrones</td>\n",
       "      <td></td>\n",
       "      <td>GREYWORM LEADING THE LEGIONS OF UNSULLIED. \\n\\...</td>\n",
       "    </tr>\n",
       "    <tr>\n",
       "      <th>14</th>\n",
       "      <td>[Spoilers] Game of Thrones Season 8 | Official...</td>\n",
       "      <td>axmpw7</td>\n",
       "      <td>gameofthrones</td>\n",
       "      <td></td>\n",
       "      <td>On Jon's return;\\n\\nArya: Brother!\\n\\nSansa: B...</td>\n",
       "    </tr>\n",
       "    <tr>\n",
       "      <th>15</th>\n",
       "      <td>[Spoilers] Game of Thrones Season 8 | Official...</td>\n",
       "      <td>axmpw7</td>\n",
       "      <td>gameofthrones</td>\n",
       "      <td></td>\n",
       "      <td>DRAGONS OVER WINTERFELL!!!!</td>\n",
       "    </tr>\n",
       "    <tr>\n",
       "      <th>16</th>\n",
       "      <td>[Spoilers] Game of Thrones Season 8 | Official...</td>\n",
       "      <td>axmpw7</td>\n",
       "      <td>gameofthrones</td>\n",
       "      <td></td>\n",
       "      <td>I HAVE CHILLS!\\n\\nI wonder who or *what* Arya ...</td>\n",
       "    </tr>\n",
       "    <tr>\n",
       "      <th>17</th>\n",
       "      <td>[Spoilers] Game of Thrones Season 8 | Official...</td>\n",
       "      <td>axmpw7</td>\n",
       "      <td>gameofthrones</td>\n",
       "      <td></td>\n",
       "      <td>This will be Jaime's season.</td>\n",
       "    </tr>\n",
       "    <tr>\n",
       "      <th>18</th>\n",
       "      <td>[Spoilers] Game of Thrones Season 8 | Official...</td>\n",
       "      <td>axmpw7</td>\n",
       "      <td>gameofthrones</td>\n",
       "      <td></td>\n",
       "      <td>I have nothing constructive to say, I'm just h...</td>\n",
       "    </tr>\n",
       "    <tr>\n",
       "      <th>19</th>\n",
       "      <td>[Spoilers] Game of Thrones Season 8 | Official...</td>\n",
       "      <td>axmpw7</td>\n",
       "      <td>gameofthrones</td>\n",
       "      <td></td>\n",
       "      <td>I’m australian and woke up 15 mins ago to pee,...</td>\n",
       "    </tr>\n",
       "    <tr>\n",
       "      <th>20</th>\n",
       "      <td>[Spoilers] Game of Thrones Season 8 | Official...</td>\n",
       "      <td>axmpw7</td>\n",
       "      <td>gameofthrones</td>\n",
       "      <td></td>\n",
       "      <td>The most powerful part of the trailer for me:\\...</td>\n",
       "    </tr>\n",
       "    <tr>\n",
       "      <th>21</th>\n",
       "      <td>[Spoilers] Game of Thrones Season 8 | Official...</td>\n",
       "      <td>axmpw7</td>\n",
       "      <td>gameofthrones</td>\n",
       "      <td></td>\n",
       "      <td>Gendry looking absolutely juicy</td>\n",
       "    </tr>\n",
       "    <tr>\n",
       "      <th>22</th>\n",
       "      <td>[Spoilers] Game of Thrones Season 8 | Official...</td>\n",
       "      <td>axmpw7</td>\n",
       "      <td>gameofthrones</td>\n",
       "      <td></td>\n",
       "      <td>\"I know death. He's got many faces. I look for...</td>\n",
       "    </tr>\n",
       "    <tr>\n",
       "      <th>23</th>\n",
       "      <td>[Spoilers] Game of Thrones Season 8 | Official...</td>\n",
       "      <td>axmpw7</td>\n",
       "      <td>gameofthrones</td>\n",
       "      <td></td>\n",
       "      <td>So happy to know Tormund, Beric and Edd are al...</td>\n",
       "    </tr>\n",
       "    <tr>\n",
       "      <th>24</th>\n",
       "      <td>[Spoilers] Game of Thrones Season 8 | Official...</td>\n",
       "      <td>axmpw7</td>\n",
       "      <td>gameofthrones</td>\n",
       "      <td></td>\n",
       "      <td>Inject this directly into my veins</td>\n",
       "    </tr>\n",
       "    <tr>\n",
       "      <th>25</th>\n",
       "      <td>[Spoilers] Game of Thrones Season 8 | Official...</td>\n",
       "      <td>axmpw7</td>\n",
       "      <td>gameofthrones</td>\n",
       "      <td></td>\n",
       "      <td>BERIC AND TORMUND ARE ALIVE!\\n\\n^(at least for...</td>\n",
       "    </tr>\n",
       "    <tr>\n",
       "      <th>26</th>\n",
       "      <td>[Spoilers] Game of Thrones Season 8 | Official...</td>\n",
       "      <td>axmpw7</td>\n",
       "      <td>gameofthrones</td>\n",
       "      <td></td>\n",
       "      <td>Damn Viserion's legs are tiny now.</td>\n",
       "    </tr>\n",
       "    <tr>\n",
       "      <th>27</th>\n",
       "      <td>[Spoilers] Game of Thrones Season 8 | Official...</td>\n",
       "      <td>axmpw7</td>\n",
       "      <td>gameofthrones</td>\n",
       "      <td></td>\n",
       "      <td>Gendry looking like a SNACK</td>\n",
       "    </tr>\n",
       "    <tr>\n",
       "      <th>28</th>\n",
       "      <td>[Spoilers] Game of Thrones Season 8 | Official...</td>\n",
       "      <td>axmpw7</td>\n",
       "      <td>gameofthrones</td>\n",
       "      <td></td>\n",
       "      <td>Jon and Dany in the crypts is definitely gonna...</td>\n",
       "    </tr>\n",
       "    <tr>\n",
       "      <th>29</th>\n",
       "      <td>[Spoilers] Game of Thrones Season 8 | Official...</td>\n",
       "      <td>axmpw7</td>\n",
       "      <td>gameofthrones</td>\n",
       "      <td></td>\n",
       "      <td>O fuck o god my dick is the Tower of Joy</td>\n",
       "    </tr>\n",
       "    <tr>\n",
       "      <th>...</th>\n",
       "      <td>...</td>\n",
       "      <td>...</td>\n",
       "      <td>...</td>\n",
       "      <td>...</td>\n",
       "      <td>...</td>\n",
       "    </tr>\n",
       "    <tr>\n",
       "      <th>180336</th>\n",
       "      <td>[S3E4] An oldie but a goodie</td>\n",
       "      <td>6lrgkm</td>\n",
       "      <td>gameofthrones</td>\n",
       "      <td></td>\n",
       "      <td>Finland is a not yet discovered land of amazin...</td>\n",
       "    </tr>\n",
       "    <tr>\n",
       "      <th>180337</th>\n",
       "      <td>[S3E4] An oldie but a goodie</td>\n",
       "      <td>6lrgkm</td>\n",
       "      <td>gameofthrones</td>\n",
       "      <td></td>\n",
       "      <td>/r/finlandConspiracy/</td>\n",
       "    </tr>\n",
       "    <tr>\n",
       "      <th>180338</th>\n",
       "      <td>[S3E4] An oldie but a goodie</td>\n",
       "      <td>6lrgkm</td>\n",
       "      <td>gameofthrones</td>\n",
       "      <td></td>\n",
       "      <td>I want to downvote you for being right. But th...</td>\n",
       "    </tr>\n",
       "    <tr>\n",
       "      <th>180339</th>\n",
       "      <td>[S3E4] An oldie but a goodie</td>\n",
       "      <td>6lrgkm</td>\n",
       "      <td>gameofthrones</td>\n",
       "      <td></td>\n",
       "      <td>Which is a real shame aswell, I watched a few ...</td>\n",
       "    </tr>\n",
       "    <tr>\n",
       "      <th>180340</th>\n",
       "      <td>[S3E4] An oldie but a goodie</td>\n",
       "      <td>6lrgkm</td>\n",
       "      <td>gameofthrones</td>\n",
       "      <td></td>\n",
       "      <td>...ok\\n\\nI'm not sure what the conspiracy is h...</td>\n",
       "    </tr>\n",
       "    <tr>\n",
       "      <th>180341</th>\n",
       "      <td>[S3E4] An oldie but a goodie</td>\n",
       "      <td>6lrgkm</td>\n",
       "      <td>gameofthrones</td>\n",
       "      <td></td>\n",
       "      <td>My mum (from UK) spend some of her youth in Tu...</td>\n",
       "    </tr>\n",
       "    <tr>\n",
       "      <th>180342</th>\n",
       "      <td>[S3E4] An oldie but a goodie</td>\n",
       "      <td>6lrgkm</td>\n",
       "      <td>gameofthrones</td>\n",
       "      <td></td>\n",
       "      <td>True, but to make up for ageing her up, the sh...</td>\n",
       "    </tr>\n",
       "    <tr>\n",
       "      <th>180343</th>\n",
       "      <td>[S3E4] An oldie but a goodie</td>\n",
       "      <td>6lrgkm</td>\n",
       "      <td>gameofthrones</td>\n",
       "      <td></td>\n",
       "      <td>Who doesn't like loli?</td>\n",
       "    </tr>\n",
       "    <tr>\n",
       "      <th>180344</th>\n",
       "      <td>[S3E4] An oldie but a goodie</td>\n",
       "      <td>6lrgkm</td>\n",
       "      <td>gameofthrones</td>\n",
       "      <td></td>\n",
       "      <td>She didn't conquer Astappr, she burned it to t...</td>\n",
       "    </tr>\n",
       "    <tr>\n",
       "      <th>180345</th>\n",
       "      <td>[S3E4] An oldie but a goodie</td>\n",
       "      <td>6lrgkm</td>\n",
       "      <td>gameofthrones</td>\n",
       "      <td></td>\n",
       "      <td>The guy said \"or unless you have friends with ...</td>\n",
       "    </tr>\n",
       "    <tr>\n",
       "      <th>180346</th>\n",
       "      <td>[S3E4] An oldie but a goodie</td>\n",
       "      <td>6lrgkm</td>\n",
       "      <td>gameofthrones</td>\n",
       "      <td></td>\n",
       "      <td>ლ(ಠ益ಠლ)</td>\n",
       "    </tr>\n",
       "    <tr>\n",
       "      <th>180347</th>\n",
       "      <td>[S3E4] An oldie but a goodie</td>\n",
       "      <td>6lrgkm</td>\n",
       "      <td>gameofthrones</td>\n",
       "      <td></td>\n",
       "      <td>✨✋🏽👁👄👁🤚🏽✨</td>\n",
       "    </tr>\n",
       "    <tr>\n",
       "      <th>180348</th>\n",
       "      <td>[S3E4] An oldie but a goodie</td>\n",
       "      <td>6lrgkm</td>\n",
       "      <td>gameofthrones</td>\n",
       "      <td></td>\n",
       "      <td>Nut n' honey</td>\n",
       "    </tr>\n",
       "    <tr>\n",
       "      <th>180349</th>\n",
       "      <td>[S3E4] An oldie but a goodie</td>\n",
       "      <td>6lrgkm</td>\n",
       "      <td>gameofthrones</td>\n",
       "      <td></td>\n",
       "      <td>Alohomora</td>\n",
       "    </tr>\n",
       "    <tr>\n",
       "      <th>180350</th>\n",
       "      <td>[S3E4] An oldie but a goodie</td>\n",
       "      <td>6lrgkm</td>\n",
       "      <td>gameofthrones</td>\n",
       "      <td></td>\n",
       "      <td>ORAORAORAORA</td>\n",
       "    </tr>\n",
       "    <tr>\n",
       "      <th>180351</th>\n",
       "      <td>[S3E4] An oldie but a goodie</td>\n",
       "      <td>6lrgkm</td>\n",
       "      <td>gameofthrones</td>\n",
       "      <td></td>\n",
       "      <td>But Canada did give us Tesho, so that was nice...</td>\n",
       "    </tr>\n",
       "    <tr>\n",
       "      <th>180352</th>\n",
       "      <td>[S3E4] An oldie but a goodie</td>\n",
       "      <td>6lrgkm</td>\n",
       "      <td>gameofthrones</td>\n",
       "      <td></td>\n",
       "      <td>Aegon is my overall favorite character from AS...</td>\n",
       "    </tr>\n",
       "    <tr>\n",
       "      <th>180353</th>\n",
       "      <td>[S3E4] An oldie but a goodie</td>\n",
       "      <td>6lrgkm</td>\n",
       "      <td>gameofthrones</td>\n",
       "      <td></td>\n",
       "      <td>My mother speaks Spanish. We used to frequent ...</td>\n",
       "    </tr>\n",
       "    <tr>\n",
       "      <th>180354</th>\n",
       "      <td>[S3E4] An oldie but a goodie</td>\n",
       "      <td>6lrgkm</td>\n",
       "      <td>gameofthrones</td>\n",
       "      <td></td>\n",
       "      <td>Not the same level, but I lived in Miami for a...</td>\n",
       "    </tr>\n",
       "    <tr>\n",
       "      <th>180355</th>\n",
       "      <td>[S3E4] An oldie but a goodie</td>\n",
       "      <td>6lrgkm</td>\n",
       "      <td>gameofthrones</td>\n",
       "      <td></td>\n",
       "      <td>It's not actually rape at all in the book. He ...</td>\n",
       "    </tr>\n",
       "    <tr>\n",
       "      <th>180356</th>\n",
       "      <td>[S3E4] An oldie but a goodie</td>\n",
       "      <td>6lrgkm</td>\n",
       "      <td>gameofthrones</td>\n",
       "      <td></td>\n",
       "      <td>Dude, she's thirteen. It wasn't brutally force...</td>\n",
       "    </tr>\n",
       "    <tr>\n",
       "      <th>180357</th>\n",
       "      <td>[S3E4] An oldie but a goodie</td>\n",
       "      <td>6lrgkm</td>\n",
       "      <td>gameofthrones</td>\n",
       "      <td></td>\n",
       "      <td>please get in the police car oni-chan.</td>\n",
       "    </tr>\n",
       "    <tr>\n",
       "      <th>180358</th>\n",
       "      <td>[S3E4] An oldie but a goodie</td>\n",
       "      <td>6lrgkm</td>\n",
       "      <td>gameofthrones</td>\n",
       "      <td></td>\n",
       "      <td>What's loli?</td>\n",
       "    </tr>\n",
       "    <tr>\n",
       "      <th>180359</th>\n",
       "      <td>[S3E4] An oldie but a goodie</td>\n",
       "      <td>6lrgkm</td>\n",
       "      <td>gameofthrones</td>\n",
       "      <td></td>\n",
       "      <td>It also gave us Bryan Adams and Justin Beiber....</td>\n",
       "    </tr>\n",
       "    <tr>\n",
       "      <th>180360</th>\n",
       "      <td>[S3E4] An oldie but a goodie</td>\n",
       "      <td>6lrgkm</td>\n",
       "      <td>gameofthrones</td>\n",
       "      <td></td>\n",
       "      <td>I was a loyalist of Queen Myrcella for a bit. ...</td>\n",
       "    </tr>\n",
       "    <tr>\n",
       "      <th>180361</th>\n",
       "      <td>[S3E4] An oldie but a goodie</td>\n",
       "      <td>6lrgkm</td>\n",
       "      <td>gameofthrones</td>\n",
       "      <td></td>\n",
       "      <td>Exactly!</td>\n",
       "    </tr>\n",
       "    <tr>\n",
       "      <th>180362</th>\n",
       "      <td>[S3E4] An oldie but a goodie</td>\n",
       "      <td>6lrgkm</td>\n",
       "      <td>gameofthrones</td>\n",
       "      <td></td>\n",
       "      <td>No, not same thing with the Cersei and Jaime s...</td>\n",
       "    </tr>\n",
       "    <tr>\n",
       "      <th>180363</th>\n",
       "      <td>[S3E4] An oldie but a goodie</td>\n",
       "      <td>6lrgkm</td>\n",
       "      <td>gameofthrones</td>\n",
       "      <td></td>\n",
       "      <td>That's a subjective thing though, isn't it? Th...</td>\n",
       "    </tr>\n",
       "    <tr>\n",
       "      <th>180364</th>\n",
       "      <td>[S3E4] An oldie but a goodie</td>\n",
       "      <td>6lrgkm</td>\n",
       "      <td>gameofthrones</td>\n",
       "      <td></td>\n",
       "      <td>Sure, the situation is bad regardless, but it ...</td>\n",
       "    </tr>\n",
       "    <tr>\n",
       "      <th>180365</th>\n",
       "      <td>[S3E4] An oldie but a goodie</td>\n",
       "      <td>6lrgkm</td>\n",
       "      <td>gameofthrones</td>\n",
       "      <td></td>\n",
       "      <td>google is your friend but make sure safe searc...</td>\n",
       "    </tr>\n",
       "  </tbody>\n",
       "</table>\n",
       "<p>180366 rows × 5 columns</p>\n",
       "</div>"
      ],
      "text/plain": [
       "                                                    title      id  \\\n",
       "0       [Spoilers] Game of Thrones Season 8 | Official...  axmpw7   \n",
       "1       [Spoilers] Game of Thrones Season 8 | Official...  axmpw7   \n",
       "2       [Spoilers] Game of Thrones Season 8 | Official...  axmpw7   \n",
       "3       [Spoilers] Game of Thrones Season 8 | Official...  axmpw7   \n",
       "4       [Spoilers] Game of Thrones Season 8 | Official...  axmpw7   \n",
       "5       [Spoilers] Game of Thrones Season 8 | Official...  axmpw7   \n",
       "6       [Spoilers] Game of Thrones Season 8 | Official...  axmpw7   \n",
       "7       [Spoilers] Game of Thrones Season 8 | Official...  axmpw7   \n",
       "8       [Spoilers] Game of Thrones Season 8 | Official...  axmpw7   \n",
       "9       [Spoilers] Game of Thrones Season 8 | Official...  axmpw7   \n",
       "10      [Spoilers] Game of Thrones Season 8 | Official...  axmpw7   \n",
       "11      [Spoilers] Game of Thrones Season 8 | Official...  axmpw7   \n",
       "12      [Spoilers] Game of Thrones Season 8 | Official...  axmpw7   \n",
       "13      [Spoilers] Game of Thrones Season 8 | Official...  axmpw7   \n",
       "14      [Spoilers] Game of Thrones Season 8 | Official...  axmpw7   \n",
       "15      [Spoilers] Game of Thrones Season 8 | Official...  axmpw7   \n",
       "16      [Spoilers] Game of Thrones Season 8 | Official...  axmpw7   \n",
       "17      [Spoilers] Game of Thrones Season 8 | Official...  axmpw7   \n",
       "18      [Spoilers] Game of Thrones Season 8 | Official...  axmpw7   \n",
       "19      [Spoilers] Game of Thrones Season 8 | Official...  axmpw7   \n",
       "20      [Spoilers] Game of Thrones Season 8 | Official...  axmpw7   \n",
       "21      [Spoilers] Game of Thrones Season 8 | Official...  axmpw7   \n",
       "22      [Spoilers] Game of Thrones Season 8 | Official...  axmpw7   \n",
       "23      [Spoilers] Game of Thrones Season 8 | Official...  axmpw7   \n",
       "24      [Spoilers] Game of Thrones Season 8 | Official...  axmpw7   \n",
       "25      [Spoilers] Game of Thrones Season 8 | Official...  axmpw7   \n",
       "26      [Spoilers] Game of Thrones Season 8 | Official...  axmpw7   \n",
       "27      [Spoilers] Game of Thrones Season 8 | Official...  axmpw7   \n",
       "28      [Spoilers] Game of Thrones Season 8 | Official...  axmpw7   \n",
       "29      [Spoilers] Game of Thrones Season 8 | Official...  axmpw7   \n",
       "...                                                   ...     ...   \n",
       "180336                       [S3E4] An oldie but a goodie  6lrgkm   \n",
       "180337                       [S3E4] An oldie but a goodie  6lrgkm   \n",
       "180338                       [S3E4] An oldie but a goodie  6lrgkm   \n",
       "180339                       [S3E4] An oldie but a goodie  6lrgkm   \n",
       "180340                       [S3E4] An oldie but a goodie  6lrgkm   \n",
       "180341                       [S3E4] An oldie but a goodie  6lrgkm   \n",
       "180342                       [S3E4] An oldie but a goodie  6lrgkm   \n",
       "180343                       [S3E4] An oldie but a goodie  6lrgkm   \n",
       "180344                       [S3E4] An oldie but a goodie  6lrgkm   \n",
       "180345                       [S3E4] An oldie but a goodie  6lrgkm   \n",
       "180346                       [S3E4] An oldie but a goodie  6lrgkm   \n",
       "180347                       [S3E4] An oldie but a goodie  6lrgkm   \n",
       "180348                       [S3E4] An oldie but a goodie  6lrgkm   \n",
       "180349                       [S3E4] An oldie but a goodie  6lrgkm   \n",
       "180350                       [S3E4] An oldie but a goodie  6lrgkm   \n",
       "180351                       [S3E4] An oldie but a goodie  6lrgkm   \n",
       "180352                       [S3E4] An oldie but a goodie  6lrgkm   \n",
       "180353                       [S3E4] An oldie but a goodie  6lrgkm   \n",
       "180354                       [S3E4] An oldie but a goodie  6lrgkm   \n",
       "180355                       [S3E4] An oldie but a goodie  6lrgkm   \n",
       "180356                       [S3E4] An oldie but a goodie  6lrgkm   \n",
       "180357                       [S3E4] An oldie but a goodie  6lrgkm   \n",
       "180358                       [S3E4] An oldie but a goodie  6lrgkm   \n",
       "180359                       [S3E4] An oldie but a goodie  6lrgkm   \n",
       "180360                       [S3E4] An oldie but a goodie  6lrgkm   \n",
       "180361                       [S3E4] An oldie but a goodie  6lrgkm   \n",
       "180362                       [S3E4] An oldie but a goodie  6lrgkm   \n",
       "180363                       [S3E4] An oldie but a goodie  6lrgkm   \n",
       "180364                       [S3E4] An oldie but a goodie  6lrgkm   \n",
       "180365                       [S3E4] An oldie but a goodie  6lrgkm   \n",
       "\n",
       "            subreddit body                                            comment  \n",
       "0       gameofthrones       Make sure you [grab a house flair](https://www...  \n",
       "1       gameofthrones       I wonder whether Jon is standing in front of N...  \n",
       "2       gameofthrones                 Wake me up on April 14 please. Thanks.   \n",
       "3       gameofthrones       \"Our enemy doesn't stop, doesn't tire, doesn't...  \n",
       "4       gameofthrones       Everyone fighting and Cersei is just chilling ...  \n",
       "5       gameofthrones       Seeing Arya, a cold blooded assassin run scare...  \n",
       "6       gameofthrones       I have a feeling we are about to lose half of ...  \n",
       "7       gameofthrones       Aww man, I was enjoying the 15 minute videos a...  \n",
       "8       gameofthrones       Jon is sooo gonna ride Rhaegal.\\n\\nEdit: it's ...  \n",
       "9       gameofthrones       Im gonna be so pissed if i die before the seri...  \n",
       "10      gameofthrones       Final scene of Brienne and co looking and at t...  \n",
       "11      gameofthrones          Jon’s definitely riding a dragon this season.   \n",
       "12      gameofthrones                            TORMUND IS ALIVE FUCK YEAH!!  \n",
       "13      gameofthrones       GREYWORM LEADING THE LEGIONS OF UNSULLIED. \\n\\...  \n",
       "14      gameofthrones       On Jon's return;\\n\\nArya: Brother!\\n\\nSansa: B...  \n",
       "15      gameofthrones                             DRAGONS OVER WINTERFELL!!!!  \n",
       "16      gameofthrones       I HAVE CHILLS!\\n\\nI wonder who or *what* Arya ...  \n",
       "17      gameofthrones                            This will be Jaime's season.  \n",
       "18      gameofthrones       I have nothing constructive to say, I'm just h...  \n",
       "19      gameofthrones       I’m australian and woke up 15 mins ago to pee,...  \n",
       "20      gameofthrones       The most powerful part of the trailer for me:\\...  \n",
       "21      gameofthrones                         Gendry looking absolutely juicy  \n",
       "22      gameofthrones       \"I know death. He's got many faces. I look for...  \n",
       "23      gameofthrones       So happy to know Tormund, Beric and Edd are al...  \n",
       "24      gameofthrones                      Inject this directly into my veins  \n",
       "25      gameofthrones       BERIC AND TORMUND ARE ALIVE!\\n\\n^(at least for...  \n",
       "26      gameofthrones                     Damn Viserion's legs are tiny now.   \n",
       "27      gameofthrones                             Gendry looking like a SNACK  \n",
       "28      gameofthrones       Jon and Dany in the crypts is definitely gonna...  \n",
       "29      gameofthrones                O fuck o god my dick is the Tower of Joy  \n",
       "...               ...  ...                                                ...  \n",
       "180336  gameofthrones       Finland is a not yet discovered land of amazin...  \n",
       "180337  gameofthrones                                   /r/finlandConspiracy/  \n",
       "180338  gameofthrones       I want to downvote you for being right. But th...  \n",
       "180339  gameofthrones       Which is a real shame aswell, I watched a few ...  \n",
       "180340  gameofthrones       ...ok\\n\\nI'm not sure what the conspiracy is h...  \n",
       "180341  gameofthrones       My mum (from UK) spend some of her youth in Tu...  \n",
       "180342  gameofthrones       True, but to make up for ageing her up, the sh...  \n",
       "180343  gameofthrones                                  Who doesn't like loli?  \n",
       "180344  gameofthrones       She didn't conquer Astappr, she burned it to t...  \n",
       "180345  gameofthrones       The guy said \"or unless you have friends with ...  \n",
       "180346  gameofthrones                                                 ლ(ಠ益ಠლ)  \n",
       "180347  gameofthrones                                               ✨✋🏽👁👄👁🤚🏽✨  \n",
       "180348  gameofthrones                                            Nut n' honey  \n",
       "180349  gameofthrones                                               Alohomora  \n",
       "180350  gameofthrones                                            ORAORAORAORA  \n",
       "180351  gameofthrones       But Canada did give us Tesho, so that was nice...  \n",
       "180352  gameofthrones       Aegon is my overall favorite character from AS...  \n",
       "180353  gameofthrones       My mother speaks Spanish. We used to frequent ...  \n",
       "180354  gameofthrones       Not the same level, but I lived in Miami for a...  \n",
       "180355  gameofthrones       It's not actually rape at all in the book. He ...  \n",
       "180356  gameofthrones       Dude, she's thirteen. It wasn't brutally force...  \n",
       "180357  gameofthrones                  please get in the police car oni-chan.  \n",
       "180358  gameofthrones                                            What's loli?  \n",
       "180359  gameofthrones       It also gave us Bryan Adams and Justin Beiber....  \n",
       "180360  gameofthrones       I was a loyalist of Queen Myrcella for a bit. ...  \n",
       "180361  gameofthrones                                                Exactly!  \n",
       "180362  gameofthrones       No, not same thing with the Cersei and Jaime s...  \n",
       "180363  gameofthrones       That's a subjective thing though, isn't it? Th...  \n",
       "180364  gameofthrones       Sure, the situation is bad regardless, but it ...  \n",
       "180365  gameofthrones       google is your friend but make sure safe searc...  \n",
       "\n",
       "[180366 rows x 5 columns]"
      ]
     },
     "execution_count": 327,
     "metadata": {},
     "output_type": "execute_result"
    }
   ],
   "source": [
    "reddit_df "
   ]
  },
  {
   "cell_type": "markdown",
   "metadata": {},
   "source": [
    "# Combine Text Data"
   ]
  },
  {
   "cell_type": "code",
   "execution_count": 328,
   "metadata": {},
   "outputs": [],
   "source": [
    "reddit_df['text'] = reddit_df['title'] + reddit_df['body'] + reddit_df['comment']"
   ]
  },
  {
   "cell_type": "code",
   "execution_count": 329,
   "metadata": {},
   "outputs": [
    {
     "data": {
      "text/plain": [
       "(180366, 6)"
      ]
     },
     "execution_count": 329,
     "metadata": {},
     "output_type": "execute_result"
    }
   ],
   "source": [
    "reddit_df.shape"
   ]
  },
  {
   "cell_type": "markdown",
   "metadata": {},
   "source": [
    "# Remove missing values\n",
    "In our case, we don't need to worry about missing values; we'll just drop them. In some cases, this isn't always preferable - but no worries"
   ]
  },
  {
   "cell_type": "code",
   "execution_count": 330,
   "metadata": {},
   "outputs": [
    {
     "data": {
      "text/plain": [
       "title        0\n",
       "id           0\n",
       "subreddit    0\n",
       "body         0\n",
       "comment      0\n",
       "text         0\n",
       "dtype: int64"
      ]
     },
     "execution_count": 330,
     "metadata": {},
     "output_type": "execute_result"
    }
   ],
   "source": [
    "# do we have any NA values. No? dope\n",
    "reddit_df.isnull().sum()"
   ]
  },
  {
   "cell_type": "markdown",
   "metadata": {},
   "source": [
    "# Preprocess Text"
   ]
  },
  {
   "cell_type": "code",
   "execution_count": null,
   "metadata": {},
   "outputs": [],
   "source": [
    "# fix issue with multiple spellings of character names\n",
    "name_norms = {\n",
    "    ''\n",
    "}"
   ]
  },
  {
   "cell_type": "code",
   "execution_count": 331,
   "metadata": {},
   "outputs": [],
   "source": [
    "# windows, else replace 'en_core_web_sm' with 'en'\n",
    "nlp = spacy.load('en_core_web_sm', disable=['ner', 'parser']) # disabling Named Entity Recognition for speed\n",
    "\n",
    "def cleaning(doc, lemmatize=True):\n",
    "    # remove_stopwords\n",
    "    txt = [token for token in doc if not token.is_stop]\n",
    "    # lemmatize\n",
    "    if lemmatize:\n",
    "        txt = [token.lemma_ for token in txt]\n",
    "    # don't return text if it's too short\n",
    "    if len(txt) > 2:\n",
    "        return ' '.join(txt)"
   ]
  },
  {
   "cell_type": "code",
   "execution_count": 332,
   "metadata": {},
   "outputs": [],
   "source": [
    "bad_words = ['com','a', 'www', 'ibb_co', 'r','s', 'b', 'ff', 'f', 'fc', 'cc', 'wiki', 'https', 'https_www', 'reddit_com', 'http', 'r_gameofthrone', 'c', 'jpg', 'gallery',\n",
    "            'en_wikipedia', 'org', 'np_reddit', 'reddit_gameofthrone', 'policy', 'message', 'guide', 'reminder', 'delete', 'gameofthrone',\n",
    "            'q', 'link', 'reddit_gameofthrone', 'v', 'comment', 'png', 'w', 'silver', 'gold', 'o', 'youtube_watch', 'post', 'imgur', 'reddit',\n",
    "            'h', 'n', 'st', 'l', 'g', 'j', 'ibb', 'co', 'gif', 'k', 'gameofthrone', 'comment', 'post', 'x', 'subject',\n",
    "            'info', 'compose', 'np']\n",
    "\n",
    "# remove non-alphabetic characters\n",
    "def filter_text(comment):\n",
    "    # remove non-alpha characters\n",
    "    alpha_comment = re.sub(\"[^A-Za-z']+\", ' ', str(comment)).lower()\n",
    "    # filter out bad words\n",
    "    tokens = [word.lower() for word in alpha_comment.split() if word.lower() not in bad_words]\n",
    "    return ' '.join(tokens)\n",
    "brief_cleaning = (filter_text(row) for row in reddit_df['comment'])"
   ]
  },
  {
   "cell_type": "code",
   "execution_count": 333,
   "metadata": {},
   "outputs": [
    {
     "data": {
      "text/plain": [
       "<generator object <genexpr> at 0x00000205A014BF68>"
      ]
     },
     "execution_count": 333,
     "metadata": {},
     "output_type": "execute_result"
    }
   ],
   "source": [
    "brief_cleaning"
   ]
  },
  {
   "cell_type": "code",
   "execution_count": 334,
   "metadata": {},
   "outputs": [
    {
     "name": "stdout",
     "output_type": "stream",
     "text": [
      "Time to clean up everything: 2.83 mins\n"
     ]
    }
   ],
   "source": [
    "from time import time\n",
    "t = time()\n",
    "\n",
    "txt = [cleaning(doc) for doc in nlp.pipe(brief_cleaning, batch_size=5000, n_threads=-1)]\n",
    "\n",
    "print('Time to clean up everything: {} mins'.format(round((time() - t) / 60, 2)))"
   ]
  },
  {
   "cell_type": "code",
   "execution_count": 335,
   "metadata": {},
   "outputs": [
    {
     "data": {
      "text/plain": [
       "180366"
      ]
     },
     "execution_count": 335,
     "metadata": {},
     "output_type": "execute_result"
    }
   ],
   "source": [
    "len(txt)"
   ]
  },
  {
   "cell_type": "code",
   "execution_count": 336,
   "metadata": {},
   "outputs": [
    {
     "data": {
      "text/plain": [
       "(136433, 1)"
      ]
     },
     "execution_count": 336,
     "metadata": {},
     "output_type": "execute_result"
    }
   ],
   "source": [
    "df_clean = pd.DataFrame({'clean': txt})\n",
    "df_clean = df_clean.dropna().drop_duplicates()\n",
    "df_clean.shape"
   ]
  },
  {
   "cell_type": "code",
   "execution_count": 337,
   "metadata": {},
   "outputs": [],
   "source": [
    "sent = [row.split() for row in df_clean['clean']]"
   ]
  },
  {
   "cell_type": "code",
   "execution_count": 338,
   "metadata": {},
   "outputs": [],
   "source": [
    "bigram = Phrases(sent, min_count=30, progress_per=5000)"
   ]
  },
  {
   "cell_type": "code",
   "execution_count": 339,
   "metadata": {},
   "outputs": [],
   "source": [
    "sentences = bigram[sent]"
   ]
  },
  {
   "cell_type": "code",
   "execution_count": 340,
   "metadata": {},
   "outputs": [
    {
     "data": {
      "text/plain": [
       "<gensim.interfaces.TransformedCorpus at 0x205d8427400>"
      ]
     },
     "execution_count": 340,
     "metadata": {},
     "output_type": "execute_result"
    }
   ],
   "source": [
    "sentences"
   ]
  },
  {
   "cell_type": "code",
   "execution_count": 341,
   "metadata": {},
   "outputs": [
    {
     "data": {
      "text/plain": [
       "48507"
      ]
     },
     "execution_count": 341,
     "metadata": {},
     "output_type": "execute_result"
    }
   ],
   "source": [
    "word_freq = defaultdict(int)\n",
    "for sent in sentences:\n",
    "    for i in sent:\n",
    "        word_freq[i] += 1\n",
    "len(word_freq)"
   ]
  },
  {
   "cell_type": "code",
   "execution_count": 342,
   "metadata": {},
   "outputs": [
    {
     "data": {
      "text/plain": [
       "['think',\n",
       " 'like',\n",
       " 'know',\n",
       " 'get',\n",
       " 'jon',\n",
       " 'good',\n",
       " 'time',\n",
       " 'go',\n",
       " 'people',\n",
       " 'book',\n",
       " 'season',\n",
       " 'look',\n",
       " 'say',\n",
       " 'thing',\n",
       " 'want',\n",
       " 'way',\n",
       " 'love',\n",
       " 'kill',\n",
       " 'come',\n",
       " 'see']"
      ]
     },
     "execution_count": 342,
     "metadata": {},
     "output_type": "execute_result"
    }
   ],
   "source": [
    "sorted(word_freq, key=word_freq.get, reverse=True)[:20]"
   ]
  },
  {
   "cell_type": "code",
   "execution_count": 343,
   "metadata": {},
   "outputs": [],
   "source": [
    "cores = multiprocessing.cpu_count()"
   ]
  },
  {
   "cell_type": "code",
   "execution_count": 344,
   "metadata": {},
   "outputs": [
    {
     "data": {
      "text/plain": [
       "8"
      ]
     },
     "execution_count": 344,
     "metadata": {},
     "output_type": "execute_result"
    }
   ],
   "source": [
    "cores"
   ]
  },
  {
   "cell_type": "markdown",
   "metadata": {},
   "source": [
    "# word2vec"
   ]
  },
  {
   "cell_type": "code",
   "execution_count": 345,
   "metadata": {},
   "outputs": [],
   "source": [
    "w2v_model = Word2Vec(min_count=20,\n",
    "                     window=2,\n",
    "                     size=300,\n",
    "                     sample=6e-5, \n",
    "                     alpha=0.03, \n",
    "                     min_alpha=0.0007, \n",
    "                     negative=20,\n",
    "                     workers=cores-1)"
   ]
  },
  {
   "cell_type": "code",
   "execution_count": 346,
   "metadata": {},
   "outputs": [
    {
     "name": "stdout",
     "output_type": "stream",
     "text": [
      "Time to build vocab: 0.11 mins\n"
     ]
    }
   ],
   "source": [
    "t = time()\n",
    "\n",
    "w2v_model.build_vocab(sentences, progress_per=10000)\n",
    "\n",
    "print('Time to build vocab: {} mins'.format(round((time() - t) / 60, 2)))"
   ]
  },
  {
   "cell_type": "code",
   "execution_count": 347,
   "metadata": {},
   "outputs": [
    {
     "name": "stdout",
     "output_type": "stream",
     "text": [
      "Time to train the model: 4.28 mins\n"
     ]
    }
   ],
   "source": [
    "t = time()\n",
    "\n",
    "w2v_model.train(sentences, total_examples=w2v_model.corpus_count, epochs=30, report_delay=1)\n",
    "\n",
    "print('Time to train the model: {} mins'.format(round((time() - t) / 60, 2)))"
   ]
  },
  {
   "cell_type": "code",
   "execution_count": 348,
   "metadata": {},
   "outputs": [],
   "source": [
    "# make model more memory efficient\n",
    "w2v_model.init_sims(replace=True)"
   ]
  },
  {
   "cell_type": "code",
   "execution_count": 349,
   "metadata": {},
   "outputs": [
    {
     "data": {
      "text/plain": [
       "[('lady_stoneheart', 0.6198210716247559),\n",
       " ('lsh', 0.5611170530319214),\n",
       " ('beric', 0.5116912126541138),\n",
       " ('berric', 0.5082736015319824),\n",
       " ('dondarrion', 0.5066328644752502),\n",
       " ('resurrect', 0.5058009028434753),\n",
       " ('catelyn', 0.4917796850204468),\n",
       " ('aso', 0.4917214810848236),\n",
       " ('revive', 0.4702329933643341),\n",
       " ('thoro', 0.4626932740211487)]"
      ]
     },
     "execution_count": 349,
     "metadata": {},
     "output_type": "execute_result"
    }
   ],
   "source": [
    "# play with model\n",
    "w2v_model.wv.most_similar(positive=[\"stoneheart\"])\n",
    "\n",
    "# fix issue with multiple spellings of character names\n",
    "# name_norms = {\n",
    "#     'berric': 'beric',\n",
    "#     'jamie': 'jaime',\n",
    "#     'jaimie': 'ja'\n",
    "# }"
   ]
  },
  {
   "cell_type": "code",
   "execution_count": 390,
   "metadata": {},
   "outputs": [
    {
     "data": {
      "text/plain": [
       "[('emilia', 0.6374762058258057),\n",
       " ('harrington', 0.5607879161834717),\n",
       " ('kit_harington', 0.5269027948379517),\n",
       " ('sophie', 0.5141186118125916),\n",
       " ('kit_harrington', 0.46147456765174866),\n",
       " ('liam_cunningham', 0.4397754371166229),\n",
       " ('maisie', 0.4255657196044922),\n",
       " ('sophie_turner', 0.4167824983596802),\n",
       " ('expressive', 0.4148576557636261),\n",
       " ('nikolaj', 0.4066346287727356)]"
      ]
     },
     "execution_count": 390,
     "metadata": {},
     "output_type": "execute_result"
    }
   ],
   "source": [
    "w2v_model.wv.most_similar(positive=[\"kit\"])"
   ]
  },
  {
   "cell_type": "code",
   "execution_count": 379,
   "metadata": {},
   "outputs": [
    {
     "name": "stdout",
     "output_type": "stream",
     "text": [
      "0.25788406\n",
      "0.22265883\n"
     ]
    }
   ],
   "source": [
    "print(w2v_model.wv.similarity(\"jon\", 'snow'))\n",
    "print(w2v_model.wv.similarity(\"jon\", 'lannister'))"
   ]
  },
  {
   "cell_type": "code",
   "execution_count": 380,
   "metadata": {},
   "outputs": [
    {
     "name": "stdout",
     "output_type": "stream",
     "text": [
      "0.15940414\n",
      "0.52497923\n"
     ]
    }
   ],
   "source": [
    "print(w2v_model.wv.similarity(\"jon\", 'kingslayer'))\n",
    "print(w2v_model.wv.similarity(\"jaime\", 'kingslayer'))"
   ]
  },
  {
   "cell_type": "code",
   "execution_count": 384,
   "metadata": {},
   "outputs": [
    {
     "ename": "AttributeError",
     "evalue": "'Word2VecKeyedVectors' object has no attribute 'most_similarity'",
     "output_type": "error",
     "traceback": [
      "\u001b[1;31m---------------------------------------------------------------------------\u001b[0m",
      "\u001b[1;31mAttributeError\u001b[0m                            Traceback (most recent call last)",
      "\u001b[1;32m<ipython-input-384-6c263d15f5e2>\u001b[0m in \u001b[0;36m<module>\u001b[1;34m\u001b[0m\n\u001b[1;32m----> 1\u001b[1;33m \u001b[0mprint\u001b[0m\u001b[1;33m(\u001b[0m\u001b[0mw2v_model\u001b[0m\u001b[1;33m.\u001b[0m\u001b[0mwv\u001b[0m\u001b[1;33m.\u001b[0m\u001b[0mmost_similarity\u001b[0m\u001b[1;33m(\u001b[0m\u001b[1;34m\"jaime\"\u001b[0m\u001b[1;33m)\u001b[0m\u001b[1;33m)\u001b[0m\u001b[1;33m\u001b[0m\u001b[1;33m\u001b[0m\u001b[0m\n\u001b[0m",
      "\u001b[1;31mAttributeError\u001b[0m: 'Word2VecKeyedVectors' object has no attribute 'most_similarity'"
     ]
    }
   ],
   "source": [
    "print(w2v_model.wv.most_similarity(\"jaime\"))"
   ]
  },
  {
   "cell_type": "code",
   "execution_count": 382,
   "metadata": {},
   "outputs": [
    {
     "data": {
      "text/plain": [
       "'jon'"
      ]
     },
     "execution_count": 382,
     "metadata": {},
     "output_type": "execute_result"
    }
   ],
   "source": [
    "w2v_model.wv.doesnt_match(['jamie', 'tyrion', 'jon', 'tywin'])"
   ]
  },
  {
   "cell_type": "code",
   "execution_count": 361,
   "metadata": {},
   "outputs": [
    {
     "data": {
      "text/plain": [
       "'arya'"
      ]
     },
     "execution_count": 361,
     "metadata": {},
     "output_type": "execute_result"
    }
   ],
   "source": [
    "w2v_model.wv.doesnt_match(['sansa', 'arya', 'littlefinger'])"
   ]
  },
  {
   "cell_type": "code",
   "execution_count": 362,
   "metadata": {},
   "outputs": [
    {
     "data": {
      "text/plain": [
       "'greyjoy'"
      ]
     },
     "execution_count": 362,
     "metadata": {},
     "output_type": "execute_result"
    }
   ],
   "source": [
    "w2v_model.wv.doesnt_match(['lannister', 'stark', 'greyjoy', 'tyrell'])"
   ]
  },
  {
   "cell_type": "code",
   "execution_count": 394,
   "metadata": {},
   "outputs": [
    {
     "data": {
      "text/plain": [
       "[('shower', 0.30686473846435547),\n",
       " ('hot', 0.287539005279541),\n",
       " ('skirt', 0.2841108441352844),\n",
       " ('toxic', 0.2787433862686157),\n",
       " ('alcoholic', 0.27418404817581177),\n",
       " ('bun', 0.2723558843135834),\n",
       " ('hella', 0.2697514295578003),\n",
       " ('rag', 0.2638090252876282),\n",
       " ('barrel', 0.2611815631389618),\n",
       " ('outfit', 0.2592066526412964),\n",
       " ('nudity', 0.25843989849090576),\n",
       " ('jacket', 0.25830987095832825),\n",
       " ('underneath', 0.25663813948631287),\n",
       " ('nowadays', 0.2563632130622864),\n",
       " ('leather', 0.2546547055244446)]"
      ]
     },
     "execution_count": 394,
     "metadata": {},
     "output_type": "execute_result"
    }
   ],
   "source": [
    "w2v_model.wv.most_similar(positive=[\"start\", \"lannister\", \"sexy\"], negative=[\"stark\"], topn=15)"
   ]
  },
  {
   "cell_type": "code",
   "execution_count": 396,
   "metadata": {},
   "outputs": [
    {
     "data": {
      "text/plain": [
       "[('hold_door', 0.5200660228729248),\n",
       " ('pod', 0.43382877111434937),\n",
       " ('sam_gilly', 0.41271719336509705),\n",
       " ('hodor_hodor', 0.41180095076560974),\n",
       " ('meera', 0.4049489200115204),\n",
       " ('jojen', 0.3935372233390808),\n",
       " ('hoe', 0.39185595512390137),\n",
       " ('bronn', 0.3835694193840027),\n",
       " ('brienne_tarth', 0.3672548532485962),\n",
       " ('jamie', 0.35989910364151)]"
      ]
     },
     "execution_count": 396,
     "metadata": {},
     "output_type": "execute_result"
    }
   ],
   "source": [
    "w2v_model.wv.most_similar(positive=[\"hodor\", \"bron\"], topn=10)"
   ]
  },
  {
   "cell_type": "code",
   "execution_count": 419,
   "metadata": {},
   "outputs": [
    {
     "name": "stdout",
     "output_type": "stream",
     "text": [
      "Wall time: 0 ns\n"
     ]
    },
    {
     "data": {
      "text/plain": [
       "[('wed', 0.5706087350845337),\n",
       " ('consummate', 0.5568292140960693),\n",
       " ('red_wedding', 0.4543036222457886),\n",
       " ('joff', 0.44599586725234985),\n",
       " ('ceremony', 0.4455726742744446),\n",
       " ('bride', 0.4168156385421753),\n",
       " ('arrange', 0.4144287109375),\n",
       " ('groom', 0.4118686318397522),\n",
       " ('honeymoon', 0.4086294174194336),\n",
       " ('marry', 0.40806376934051514)]"
      ]
     },
     "execution_count": 419,
     "metadata": {},
     "output_type": "execute_result"
    }
   ],
   "source": [
    "%time\n",
    "w2v_model.wv.most_similar(positive=[\"wedding\"], topn=10)"
   ]
  },
  {
   "cell_type": "markdown",
   "metadata": {},
   "source": [
    "# t-sne"
   ]
  },
  {
   "cell_type": "code",
   "execution_count": 365,
   "metadata": {},
   "outputs": [],
   "source": [
    "import numpy as np\n",
    "import matplotlib.pyplot as plt\n",
    "%matplotlib inline\n",
    " \n",
    "import seaborn as sns\n",
    "sns.set_style(\"darkgrid\")\n",
    "\n",
    "from sklearn.decomposition import PCA\n",
    "from sklearn.manifold import TSNE"
   ]
  },
  {
   "cell_type": "code",
   "execution_count": 366,
   "metadata": {},
   "outputs": [],
   "source": [
    "def tsnescatterplot(model, word, list_names):\n",
    "    \"\"\" Plot in seaborn the results from the t-SNE dimensionality reduction algorithm of the vectors of a query word,\n",
    "    its list of most similar words, and a list of words.\n",
    "    \"\"\"\n",
    "    arrays = np.empty((0, 300), dtype='f')\n",
    "    word_labels = [word]\n",
    "    color_list  = ['red']\n",
    "\n",
    "    # adds the vector of the query word\n",
    "    arrays = np.append(arrays, model.wv.__getitem__([word]), axis=0)\n",
    "    \n",
    "    # gets list of most similar words\n",
    "    close_words = model.wv.most_similar([word])\n",
    "    \n",
    "    # adds the vector for each of the closest words to the array\n",
    "    for wrd_score in close_words:\n",
    "        wrd_vector = model.wv.__getitem__([wrd_score[0]])\n",
    "        word_labels.append(wrd_score[0])\n",
    "        color_list.append('blue')\n",
    "        arrays = np.append(arrays, wrd_vector, axis=0)\n",
    "    \n",
    "    # adds the vector for each of the words from list_names to the array\n",
    "    for wrd in list_names:\n",
    "        wrd_vector = model.wv.__getitem__([wrd])\n",
    "        word_labels.append(wrd)\n",
    "        color_list.append('green')\n",
    "        arrays = np.append(arrays, wrd_vector, axis=0)\n",
    "    # Reduces the dimensionality from 300 to 50 dimensions with PCA\n",
    "    reduc = PCA(n_components=10).fit_transform(arrays)\n",
    "    \n",
    "    # Finds t-SNE coordinates for 2 dimensions\n",
    "    np.set_printoptions(suppress=True)\n",
    "    \n",
    "    Y = TSNE(n_components=2, random_state=0, perplexity=15).fit_transform(reduc)\n",
    "    \n",
    "    # Sets everything up to plot\n",
    "    df = pd.DataFrame({'x': [x for x in Y[:, 0]],\n",
    "                       'y': [y for y in Y[:, 1]],\n",
    "                       'words': word_labels,\n",
    "                       'color': color_list})\n",
    "    \n",
    "    fig, _ = plt.subplots()\n",
    "    fig.set_size_inches(9, 9)\n",
    "    \n",
    "    # Basic plot\n",
    "    p1 = sns.regplot(data=df,\n",
    "                     x=\"x\",\n",
    "                     y=\"y\",\n",
    "                     fit_reg=False,\n",
    "                     marker=\"o\",\n",
    "                     scatter_kws={'s': 40,\n",
    "                                  'facecolors': df['color']\n",
    "                                 }\n",
    "                    )\n",
    "    \n",
    "    # Adds annotations one by one with a loop\n",
    "    for line in range(0, df.shape[0]):\n",
    "         p1.text(df[\"x\"][line],\n",
    "                 df['y'][line],\n",
    "                 '  ' + df[\"words\"][line].title(),\n",
    "                 horizontalalignment='left',\n",
    "                 verticalalignment='bottom', size='medium',\n",
    "                 color=df['color'][line],\n",
    "                 weight='normal'\n",
    "                ).set_size(15)\n",
    "\n",
    "    \n",
    "    plt.xlim(Y[:, 0].min()-50, Y[:, 0].max()+50)\n",
    "    plt.ylim(Y[:, 1].min()-50, Y[:, 1].max()+50)\n",
    "            \n",
    "    plt.title('t-SNE visualization for {}'.format(word.title()))"
   ]
  },
  {
   "cell_type": "code",
   "execution_count": 367,
   "metadata": {},
   "outputs": [
    {
     "data": {
      "image/png": "[encoded data removed]",
      "text/plain": [
       "<Figure size 648x648 with 1 Axes>"
      ]
     },
     "metadata": {},
     "output_type": "display_data"
    }
   ],
   "source": [
    "tsnescatterplot(w2v_model, 'arya', [i[0] for i in w2v_model.wv.most_similar(negative=[\"arya\"])])"
   ]
  },
  {
   "cell_type": "code",
   "execution_count": null,
   "metadata": {},
   "outputs": [],
   "source": [
    "bad_words = ['com', 'wiki', 'https', 'https_www', 'reddit_com', 'http', 'r_gameofthrone', 'c', 'jpg', 'gallery']"
   ]
  },
  {
   "cell_type": "code",
   "execution_count": 378,
   "metadata": {},
   "outputs": [
    {
     "name": "stdout",
     "output_type": "stream",
     "text": [
      "['Amsterdam', 'Prague']\n"
     ]
    }
   ],
   "source": [
    "import difflib\n",
    "def correct_name(first, second):\n",
    "    return difflib.SequenceMatcher(first, first, second).ratio() > 0.05\n",
    "\n",
    "first = ['barca', 'emstrdam', 'Praga']\n",
    "second = ['New York', 'Amsterdam', 'Barcelona', 'Berlin', 'Prague']\n",
    "\n",
    "result = [s for f in first for s in second if is_similar(f,s, 0.7)]\n",
    "print(result)\n"
   ]
  },
  {
   "cell_type": "code",
   "execution_count": null,
   "metadata": {},
   "outputs": [],
   "source": []
  },
  {
   "cell_type": "code",
   "execution_count": null,
   "metadata": {},
   "outputs": [],
   "source": []
  }
 ],
 "metadata": {
  "kernelspec": {
   "display_name": "Python 3",
   "language": "python",
   "name": "python3"
  },
  "language_info": {
   "codemirror_mode": {
    "name": "ipython",
    "version": 3
   },
   "file_extension": ".py",
   "mimetype": "text/x-python",
   "name": "python",
   "nbconvert_exporter": "python",
   "pygments_lexer": "ipython3",
   "version": "3.6.8"
  }
 },
 "nbformat": 4,
 "nbformat_minor": 2
}
